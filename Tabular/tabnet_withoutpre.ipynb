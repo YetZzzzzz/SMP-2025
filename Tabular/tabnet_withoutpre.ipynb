{
 "cells": [
  {
   "cell_type": "code",
   "execution_count": 1,
   "id": "9aac41d4-e39d-48d8-bf23-1ac5f7fbf804",
   "metadata": {
    "tags": []
   },
   "outputs": [
    {
     "name": "stderr",
     "output_type": "stream",
     "text": [
      "/usr/local/lib/python3.8/dist-packages/tqdm/auto.py:22: TqdmWarning: IProgress not found. Please update jupyter and ipywidgets. See https://ipywidgets.readthedocs.io/en/stable/user_install.html\n",
      "  from .autonotebook import tqdm as notebook_tqdm\n"
     ]
    }
   ],
   "source": [
    "import numpy as np \n",
    "import pandas as pd \n",
    "import plotly.express as px\n",
    "from matplotlib import pyplot as plt\n",
    "\n",
    "\n",
    "import seaborn as sns\n",
    "import numpy.matlib\n",
    "import matplotlib.gridspec as gridspec\n",
    "from matplotlib.ticker import MaxNLocator\n",
    "from scipy import stats\n",
    "from scipy.stats import norm\n",
    "from joblib import Parallel, delayed\n",
    "import shutil\n",
    "import glob\n",
    "from sklearn.preprocessing import MinMaxScaler, LabelEncoder, StandardScaler\n",
    "from sklearn.metrics import r2_score\n",
    "from sklearn.cluster import KMeans\n",
    "from sklearn.model_selection import KFold\n",
    "from pytorch_tabnet.metrics import Metric\n",
    "from pytorch_tabnet.tab_model import TabNetRegressor\n",
    "import torch\n",
    "from sklearn.metrics import mean_squared_error\n",
    "np.random.seed(0)\n",
    "import os\n",
    "import torch\n",
    "from torch.optim import Adam, SGD\n",
    "from torch.optim.lr_scheduler import ReduceLROnPlateau, CosineAnnealingWarmRestarts\n",
    "from scipy.stats import norm, skew\n",
    "# train\n",
    "\n",
    "all_data = pd.read_csv('../data/feature_data_530.csv')\n",
    "# glove\n",
    "glove_tags = pd.read_csv('../data/alltags_feature.csv')\n",
    "glove_title = pd.read_csv('../data/title_feature.csv')\n",
    "# glove_title = pd.read_csv('../data/title_feature.csv')\n",
    "all_data = pd.concat([all_data, glove_tags, glove_title], axis=1)\n",
    "columns = ['Title_len', 'Title_number', 'Alltags_len', 'Alltags_number', 'photo_count', 'totalTags', 'totalGeotagged', 'totalFaves',\n",
    "          'totalInGroup','photoCount','meanView', 'meanTags', 'meanFaves', 'followerCount','followingCount']\n",
    "skew_features = all_data[columns].apply(lambda x: skew(x)).sort_values(ascending=False)\n",
    "high_skew = skew_features[abs(skew_features) > 0.75]\n",
    "skew_index = high_skew.index\n",
    "for i in skew_index:\n",
    "    all_data[i] = np.log1p(all_data[i])\n",
    "    \n",
    "useless_columns = ['Pid','mean_label'] \n",
    "useless_columns += ['user_fe_{}'.format(i) for i in range(399)]\n",
    "useless_columns += ['loc_fe_{}'.format(i) for i in range(400)]\n",
    "all_data = all_data.drop(useless_columns, axis=1)\n",
    "\n",
    "\n",
    "train_all_data = all_data[all_data['train_type'] != -1]\n",
    "submit_all_data = all_data[all_data['train_type'] == -1]\n",
    "feature_columns = ['train_type','label']\n",
    "all_data = all_data.drop(feature_columns, axis=1)\n",
    "\n",
    "train_all_data = train_all_data.reset_index(drop=True)\n",
    "submit_all_data = submit_all_data.reset_index(drop=True)\n"
   ]
  },
  {
   "cell_type": "code",
   "execution_count": 2,
   "id": "853639a4-1d4f-4d77-91ad-b88879271f6f",
   "metadata": {
    "tags": []
   },
   "outputs": [
    {
     "name": "stdout",
     "output_type": "stream",
     "text": [
      "305613 180581 682\n",
      "305613 180581 682\n"
     ]
    }
   ],
   "source": [
    "train_label_df = train_all_data[['label']]\n",
    "train_feature_df = train_all_data.drop(feature_columns, axis=1)\n",
    "\n",
    "submit_label_df = submit_all_data[['label']]\n",
    "submit_feature_df = submit_all_data.drop(feature_columns, axis=1)\n",
    "\n",
    "print(len(train_feature_df), len(submit_feature_df), len(train_feature_df.columns))\n",
    "print(len(train_label_df), len(submit_label_df), len(train_feature_df.columns))"
   ]
  },
  {
   "cell_type": "code",
   "execution_count": 3,
   "id": "bde0a7a1-4883-4223-b58f-6d83e015f3e9",
   "metadata": {
    "tags": []
   },
   "outputs": [
    {
     "ename": "KeyboardInterrupt",
     "evalue": "",
     "output_type": "error",
     "traceback": [
      "\u001b[0;31m---------------------------------------------------------------------------\u001b[0m",
      "\u001b[0;31mKeyboardInterrupt\u001b[0m                         Traceback (most recent call last)",
      "Cell \u001b[0;32mIn[3], line 29\u001b[0m\n\u001b[1;32m     27\u001b[0m     \u001b[38;5;28;01melse\u001b[39;00m:\n\u001b[1;32m     28\u001b[0m         default_val \u001b[38;5;241m=\u001b[39m train_feature_df[cat_col]\u001b[38;5;241m.\u001b[39mmode()\u001b[38;5;241m.\u001b[39mvalues[\u001b[38;5;241m0\u001b[39m]\n\u001b[0;32m---> 29\u001b[0m     submit_feature_df[cat_col] \u001b[38;5;241m=\u001b[39m \u001b[43msubmit_feature_df\u001b[49m\u001b[43m[\u001b[49m\u001b[43mcat_col\u001b[49m\u001b[43m]\u001b[49m\u001b[38;5;241;43m.\u001b[39;49m\u001b[43mapply\u001b[49m\u001b[43m(\u001b[49m\u001b[38;5;28;43;01mlambda\u001b[39;49;00m\u001b[43m \u001b[49m\u001b[43mx\u001b[49m\u001b[43m:\u001b[49m\u001b[43m \u001b[49m\u001b[43mle_dict\u001b[49m\u001b[38;5;241;43m.\u001b[39;49m\u001b[43mget\u001b[49m\u001b[43m(\u001b[49m\u001b[43mx\u001b[49m\u001b[43m,\u001b[49m\u001b[43m \u001b[49m\u001b[43mdefault_val\u001b[49m\u001b[43m \u001b[49m\u001b[43m)\u001b[49m\u001b[43m)\u001b[49m\n\u001b[1;32m     31\u001b[0m \u001b[38;5;66;03m# Clip numerical features in test set to match training set\u001b[39;00m\n\u001b[1;32m     32\u001b[0m \u001b[38;5;28;01mfor\u001b[39;00m num_col \u001b[38;5;129;01min\u001b[39;00m NUM_COLS:\n",
      "File \u001b[0;32m/usr/local/lib/python3.8/dist-packages/pandas/core/series.py:4771\u001b[0m, in \u001b[0;36mSeries.apply\u001b[0;34m(self, func, convert_dtype, args, **kwargs)\u001b[0m\n\u001b[1;32m   4661\u001b[0m \u001b[38;5;28;01mdef\u001b[39;00m \u001b[38;5;21mapply\u001b[39m(\n\u001b[1;32m   4662\u001b[0m     \u001b[38;5;28mself\u001b[39m,\n\u001b[1;32m   4663\u001b[0m     func: AggFuncType,\n\u001b[0;32m   (...)\u001b[0m\n\u001b[1;32m   4666\u001b[0m     \u001b[38;5;241m*\u001b[39m\u001b[38;5;241m*\u001b[39mkwargs,\n\u001b[1;32m   4667\u001b[0m ) \u001b[38;5;241m-\u001b[39m\u001b[38;5;241m>\u001b[39m DataFrame \u001b[38;5;241m|\u001b[39m Series:\n\u001b[1;32m   4668\u001b[0m \u001b[38;5;250m    \u001b[39m\u001b[38;5;124;03m\"\"\"\u001b[39;00m\n\u001b[1;32m   4669\u001b[0m \u001b[38;5;124;03m    Invoke function on values of Series.\u001b[39;00m\n\u001b[1;32m   4670\u001b[0m \n\u001b[0;32m   (...)\u001b[0m\n\u001b[1;32m   4769\u001b[0m \u001b[38;5;124;03m    dtype: float64\u001b[39;00m\n\u001b[1;32m   4770\u001b[0m \u001b[38;5;124;03m    \"\"\"\u001b[39;00m\n\u001b[0;32m-> 4771\u001b[0m     \u001b[38;5;28;01mreturn\u001b[39;00m \u001b[43mSeriesApply\u001b[49m\u001b[43m(\u001b[49m\u001b[38;5;28;43mself\u001b[39;49m\u001b[43m,\u001b[49m\u001b[43m \u001b[49m\u001b[43mfunc\u001b[49m\u001b[43m,\u001b[49m\u001b[43m \u001b[49m\u001b[43mconvert_dtype\u001b[49m\u001b[43m,\u001b[49m\u001b[43m \u001b[49m\u001b[43margs\u001b[49m\u001b[43m,\u001b[49m\u001b[43m \u001b[49m\u001b[43mkwargs\u001b[49m\u001b[43m)\u001b[49m\u001b[38;5;241;43m.\u001b[39;49m\u001b[43mapply\u001b[49m\u001b[43m(\u001b[49m\u001b[43m)\u001b[49m\n",
      "File \u001b[0;32m/usr/local/lib/python3.8/dist-packages/pandas/core/apply.py:1123\u001b[0m, in \u001b[0;36mSeriesApply.apply\u001b[0;34m(self)\u001b[0m\n\u001b[1;32m   1120\u001b[0m     \u001b[38;5;28;01mreturn\u001b[39;00m \u001b[38;5;28mself\u001b[39m\u001b[38;5;241m.\u001b[39mapply_str()\n\u001b[1;32m   1122\u001b[0m \u001b[38;5;66;03m# self.f is Callable\u001b[39;00m\n\u001b[0;32m-> 1123\u001b[0m \u001b[38;5;28;01mreturn\u001b[39;00m \u001b[38;5;28;43mself\u001b[39;49m\u001b[38;5;241;43m.\u001b[39;49m\u001b[43mapply_standard\u001b[49m\u001b[43m(\u001b[49m\u001b[43m)\u001b[49m\n",
      "File \u001b[0;32m/usr/local/lib/python3.8/dist-packages/pandas/core/apply.py:1174\u001b[0m, in \u001b[0;36mSeriesApply.apply_standard\u001b[0;34m(self)\u001b[0m\n\u001b[1;32m   1172\u001b[0m     \u001b[38;5;28;01melse\u001b[39;00m:\n\u001b[1;32m   1173\u001b[0m         values \u001b[38;5;241m=\u001b[39m obj\u001b[38;5;241m.\u001b[39mastype(\u001b[38;5;28mobject\u001b[39m)\u001b[38;5;241m.\u001b[39m_values\n\u001b[0;32m-> 1174\u001b[0m         mapped \u001b[38;5;241m=\u001b[39m \u001b[43mlib\u001b[49m\u001b[38;5;241;43m.\u001b[39;49m\u001b[43mmap_infer\u001b[49m\u001b[43m(\u001b[49m\n\u001b[1;32m   1175\u001b[0m \u001b[43m            \u001b[49m\u001b[43mvalues\u001b[49m\u001b[43m,\u001b[49m\n\u001b[1;32m   1176\u001b[0m \u001b[43m            \u001b[49m\u001b[43mf\u001b[49m\u001b[43m,\u001b[49m\n\u001b[1;32m   1177\u001b[0m \u001b[43m            \u001b[49m\u001b[43mconvert\u001b[49m\u001b[38;5;241;43m=\u001b[39;49m\u001b[38;5;28;43mself\u001b[39;49m\u001b[38;5;241;43m.\u001b[39;49m\u001b[43mconvert_dtype\u001b[49m\u001b[43m,\u001b[49m\n\u001b[1;32m   1178\u001b[0m \u001b[43m        \u001b[49m\u001b[43m)\u001b[49m\n\u001b[1;32m   1180\u001b[0m \u001b[38;5;28;01mif\u001b[39;00m \u001b[38;5;28mlen\u001b[39m(mapped) \u001b[38;5;129;01mand\u001b[39;00m \u001b[38;5;28misinstance\u001b[39m(mapped[\u001b[38;5;241m0\u001b[39m], ABCSeries):\n\u001b[1;32m   1181\u001b[0m     \u001b[38;5;66;03m# GH#43986 Need to do list(mapped) in order to get treated as nested\u001b[39;00m\n\u001b[1;32m   1182\u001b[0m     \u001b[38;5;66;03m#  See also GH#25959 regarding EA support\u001b[39;00m\n\u001b[1;32m   1183\u001b[0m     \u001b[38;5;28;01mreturn\u001b[39;00m obj\u001b[38;5;241m.\u001b[39m_constructor_expanddim(\u001b[38;5;28mlist\u001b[39m(mapped), index\u001b[38;5;241m=\u001b[39mobj\u001b[38;5;241m.\u001b[39mindex)\n",
      "\u001b[0;31mKeyboardInterrupt\u001b[0m: "
     ]
    }
   ],
   "source": [
    "# Consider everything as categorical variables might be useful : this is the only trick of this notebook\n",
    "# CAT_COLS = [c for c in df_train.columns if c.startswith(\"feature_\")] \n",
    "categories_columns = ['Uid', 'Category', 'Subcategory', 'Concept', 'Mediatype', 'hour', 'day', 'weekday', 'week_hour', 'year_weekday','Geoaccuracy', 'ispro' , 'Ispublic']\n",
    "# CAT_COLS = [c for c in df_train.columns if c.startswith(\"feature_\")] \n",
    "# NUM_COLS = [] \n",
    "\n",
    "# FEATURES = CAT_COLS + NUM_COLS\n",
    "CAT_COLS = [c for c in categories_columns] \n",
    "NUM_COLS = [c for c in all_data.columns if c not in CAT_COLS] \n",
    "# NUM_COLS = [] \n",
    "FEATURES = CAT_COLS + NUM_COLS\n",
    "\n",
    "encoders = {}\n",
    "for cat_col in CAT_COLS:\n",
    "    label_enc = LabelEncoder()\n",
    "        \n",
    "    train_feature_df[cat_col] = label_enc.fit_transform(train_feature_df[cat_col])\n",
    "    encoders[cat_col] = label_enc\n",
    "\n",
    "for cat_col in CAT_COLS:\n",
    "    label_enc = encoders[cat_col]\n",
    "    le_dict = dict(zip(label_enc.classes_, label_enc.transform(label_enc.classes_)))\n",
    "    # Replace unknown values by the most common value\n",
    "    # Changing this to another value might make more sense\n",
    "    if le_dict.get(\"low_frequency\") is not None:\n",
    "        default_val = le_dict[\"low_frequency\"]\n",
    "    else:\n",
    "        default_val = train_feature_df[cat_col].mode().values[0]\n",
    "    submit_feature_df[cat_col] = submit_feature_df[cat_col].apply(lambda x: le_dict.get(x, default_val ))\n",
    "    \n",
    "# Clip numerical features in test set to match training set\n",
    "for num_col in NUM_COLS:\n",
    "    submit_feature_df[num_col] = np.clip(submit_feature_df[num_col], train_feature_df[num_col].min(), train_feature_df[num_col].max())\n",
    "# for col in CAT_COLS:\n",
    "#     l_enc = LabelEncoder()\n",
    "#     train_feature_df[col] = l_enc.fit_transform(train_feature_df[col].values)\n",
    "#     categorical_dims[col] = len(l_enc.classes_)\n",
    "    \n",
    "# cat_idxs = [ i for i, f in enumerate(all_data.columns.tolist()) if f in categories_columns]\n",
    "\n",
    "# cat_dims = [ categorical_dims[f] for i, f in enumerate(all_data.columns.tolist()) if f in categories_columns] \n",
    "\n",
    "\n",
    "\n"
   ]
  },
  {
   "cell_type": "code",
   "execution_count": null,
   "id": "a4747829-0844-4db2-8066-86d6044cfae1",
   "metadata": {
    "tags": []
   },
   "outputs": [],
   "source": [
    "# + NUM_COLS\n",
    "# FEATURES = CAT_COLS \n",
    "cat_dims = train_feature_df[CAT_COLS].nunique().to_list()\n",
    "cat_idxs = [FEATURES.index(cat_col) for cat_col in CAT_COLS]\n",
    "cat_emb_dims = np.ceil(np.log(cat_dims)).astype(int).tolist()\n",
    "# cat_emb_dims = np.ceil(np.clip((np.array(cat_dims)) / 2, a_min=1, a_max=50)).astype(np.int).tolist()\n",
    "# cat_emb_dims=1\n",
    "\n",
    "X = train_feature_df[FEATURES].values\n",
    "y = train_label_df['label'].values\n",
    "\n",
    "X_test = submit_feature_df[FEATURES].values"
   ]
  },
  {
   "cell_type": "code",
   "execution_count": null,
   "id": "d684f11f-e98f-44cd-b509-fcfbe410f371",
   "metadata": {
    "tags": []
   },
   "outputs": [],
   "source": [
    "# from pytorch_tabnet.pretraining import TabNetPretrainer\n",
    "import os\n",
    "os.environ['CUDA_VISIBLE_DEVICES'] = '0,1'\n",
    "N_D = 64 #64 # 32\n",
    "N_A = 64 # 32\n",
    "N_INDEP = 1 #2\n",
    "N_SHARED = 1 #2\n",
    "N_STEPS = 3 #2\n",
    "MASK_TYPE = \"sparsemax\"\n",
    "GAMMA = 1.2\n",
    "BS = 256\n",
    "MAX_EPOCH =  30\n",
    "# PRETRAIN = True\n",
    "PRETRAIN = False\n",
    "\n",
    "\n",
    "if PRETRAIN:\n",
    "    pretrain_params = dict(n_d=N_D, n_a=N_A, n_steps=N_STEPS,  #0.2,\n",
    "                           n_independent=N_INDEP, n_shared=N_SHARED,\n",
    "                           # device = 'gpu',\n",
    "                           device_name = 'cuda',\n",
    "                           cat_idxs=cat_idxs,\n",
    "                           cat_dims=cat_dims,\n",
    "                           cat_emb_dim=cat_emb_dims,\n",
    "                           gamma=GAMMA,\n",
    "                           lambda_sparse=0., optimizer_fn=torch.optim.Adam,\n",
    "                           optimizer_params=dict(lr=2e-2),\n",
    "                           mask_type=MASK_TYPE,\n",
    "                           scheduler_params=dict(mode=\"min\",\n",
    "                                                 patience=3,\n",
    "                                                 min_lr=1e-5,\n",
    "                                                 factor=0.5,),\n",
    "                           scheduler_fn=torch.optim.lr_scheduler.ReduceLROnPlateau,                         \n",
    "                           verbose=1,\n",
    "                          )\n",
    "\n",
    "    pretrainer = TabNetPretrainer(**pretrain_params)\n",
    "\n",
    "    pretrainer.fit(X_train=X_test, \n",
    "                   eval_set=[X],\n",
    "                   max_epochs=MAX_EPOCH,\n",
    "                   patience=25, batch_size=BS, virtual_batch_size=BS, #128,\n",
    "                   num_workers=1, drop_last=True,\n",
    "                   pretraining_ratio=0.5 # The bigger your pretraining_ratio the harder it is to reconstruct\n",
    "                  )"
   ]
  },
  {
   "cell_type": "code",
   "execution_count": null,
   "id": "b4d9a7e8-acbb-4e73-92cc-ebef8b0413bb",
   "metadata": {
    "tags": []
   },
   "outputs": [],
   "source": [
    "from sklearn.model_selection import StratifiedKFold, KFold\n",
    "BS = 2048\n",
    "MAX_EPOCH =  100\n",
    "LAMBDA_SPARSE = 1e-5 #1e-5\n",
    "submit_proba = []\n",
    "N_SPLITS = 5\n",
    "NB_FOLDS = 5 # max N_SPLITS\n",
    "# skf = StratifiedKFold(n_splits=N_SPLITS, random_state=2021, shuffle=True)\n",
    "kfold = KFold(n_splits=N_SPLITS, shuffle=True, random_state=2020)\n",
    "from sklearn.metrics import f1_score, mean_absolute_error, mean_squared_error\n",
    "from scipy import stats\n",
    "# k = 0\n",
    "\n",
    "# for train_idx, valid_idx in kfold.split(train_feature_df, train_label_df):\n",
    "\n",
    "LR = 1e-1 # 5e-2\n",
    "fold_nb = 1\n",
    "for train_index, valid_index in kfold.split(X, y):\n",
    "    X_train, X_valid = X[train_index], X[valid_index]\n",
    "    y_train, y_valid = y[train_index].reshape(-1, 1), y[valid_index].reshape(-1, 1)\n",
    "\n",
    "    tabnet_params = dict(n_d=N_D, \n",
    "                         n_a=N_A,\n",
    "                         n_steps=N_STEPS, gamma=GAMMA,\n",
    "                         n_independent=N_INDEP, n_shared=N_SHARED,\n",
    "                         lambda_sparse=LAMBDA_SPARSE,\n",
    "                         seed=0,\n",
    "                         # clip_value=2,\n",
    "                         cat_idxs=cat_idxs,\n",
    "                         cat_dims=cat_dims,\n",
    "                         cat_emb_dim=cat_emb_dims,\n",
    "                         mask_type=MASK_TYPE,\n",
    "                         device_name='auto',\n",
    "                         optimizer_fn=torch.optim.Adam,\n",
    "                         optimizer_params=dict(lr=LR, weight_decay=1e-5),\n",
    "#                          scheduler_params=dict(max_lr=LR,\n",
    "#                                                steps_per_epoch=int(X_train.shape[0] / BS),\n",
    "#                                                epochs=MAX_EPOCH,\n",
    "#                                                #final_div_factor=100,\n",
    "#                                                is_batch_level=True),\n",
    "#                         scheduler_fn=torch.optim.lr_scheduler.OneCycleLR,\n",
    "                              scheduler_params=dict(mode='min',\n",
    "                                                    factor=0.5,\n",
    "                                                    patience=3,\n",
    "                                                    is_batch_level=False,),\n",
    "                              scheduler_fn=torch.optim.lr_scheduler.ReduceLROnPlateau,\n",
    "                         verbose=1)\n",
    "    # Defining TabNet model\n",
    "    # model = TabNetClassifier(**tabnet_params)\n",
    "    model = TabNetRegressor(**tabnet_params)\n",
    "\n",
    "    model.fit(X_train=X_train, y_train=y_train,\n",
    "              from_unsupervised=pretrainer if PRETRAIN else None,\n",
    "              eval_set=[(X_train, y_train), (X_valid, y_valid)],\n",
    "              eval_name=[\"train\", \"valid\"],\n",
    "              eval_metric=[\"mae\"],\n",
    "              batch_size=BS,\n",
    "              virtual_batch_size=256,\n",
    "              max_epochs=MAX_EPOCH,\n",
    "              drop_last=True,\n",
    "              pin_memory=True,\n",
    "              patience=10,\n",
    "             )  \n",
    "    \n",
    "    valid_pred = model.predict(X_valid).reshape(-1)\n",
    "    valid_mse = mean_squared_error(y_valid, valid_pred)\n",
    "    valid_mae = mean_absolute_error(y_valid, valid_pred)\n",
    "    valid_src = stats.spearmanr(y_valid, valid_pred)[0]\n",
    "    \n",
    "    print(\"MSE: %.4f, MAE: %.4f, SRC: %.4f\"%(valid_mse, valid_mae, valid_src))\n",
    "    test_preds = model.predict(X_test)\n",
    "    submit_proba.append(test_preds.reshape(-1))\n",
    "    # submit_proba[model.classes_] += test_preds.reshape(-1)\n",
    "    fold_nb+=1\n",
    "    \n",
    "    if fold_nb > NB_FOLDS:\n",
    "        break\n",
    "\n",
    "# df_sub[model.classes_] = df_sub[model.classes_] / NB_FOLDS"
   ]
  },
  {
   "cell_type": "code",
   "execution_count": null,
   "id": "fa6d8fa2-dfcc-436f-a37c-0638fd0a31ef",
   "metadata": {
    "tags": []
   },
   "outputs": [],
   "source": [
    "submit_proba"
   ]
  },
  {
   "cell_type": "code",
   "execution_count": 9,
   "id": "796c983c-301e-49d8-97f2-aca2e1a77e57",
   "metadata": {
    "tags": []
   },
   "outputs": [
    {
     "data": {
      "text/html": [
       "<div>\n",
       "<style scoped>\n",
       "    .dataframe tbody tr th:only-of-type {\n",
       "        vertical-align: middle;\n",
       "    }\n",
       "\n",
       "    .dataframe tbody tr th {\n",
       "        vertical-align: top;\n",
       "    }\n",
       "\n",
       "    .dataframe thead th {\n",
       "        text-align: right;\n",
       "    }\n",
       "</style>\n",
       "<table border=\"1\" class=\"dataframe\">\n",
       "  <thead>\n",
       "    <tr style=\"text-align: right;\">\n",
       "      <th></th>\n",
       "      <th>0</th>\n",
       "      <th>1</th>\n",
       "      <th>2</th>\n",
       "      <th>3</th>\n",
       "      <th>4</th>\n",
       "      <th>5</th>\n",
       "      <th>6</th>\n",
       "      <th>7</th>\n",
       "      <th>8</th>\n",
       "      <th>9</th>\n",
       "      <th>...</th>\n",
       "      <th>180571</th>\n",
       "      <th>180572</th>\n",
       "      <th>180573</th>\n",
       "      <th>180574</th>\n",
       "      <th>180575</th>\n",
       "      <th>180576</th>\n",
       "      <th>180577</th>\n",
       "      <th>180578</th>\n",
       "      <th>180579</th>\n",
       "      <th>180580</th>\n",
       "    </tr>\n",
       "  </thead>\n",
       "  <tbody>\n",
       "    <tr>\n",
       "      <th>0</th>\n",
       "      <td>8.450766</td>\n",
       "      <td>10.253364</td>\n",
       "      <td>11.358452</td>\n",
       "      <td>6.567711</td>\n",
       "      <td>6.567711</td>\n",
       "      <td>6.567711</td>\n",
       "      <td>6.669056</td>\n",
       "      <td>6.567711</td>\n",
       "      <td>6.653739</td>\n",
       "      <td>6.700100</td>\n",
       "      <td>...</td>\n",
       "      <td>6.695781</td>\n",
       "      <td>4.314606</td>\n",
       "      <td>3.995066</td>\n",
       "      <td>6.005832</td>\n",
       "      <td>9.465634</td>\n",
       "      <td>7.453830</td>\n",
       "      <td>5.221391</td>\n",
       "      <td>7.827450</td>\n",
       "      <td>6.394236</td>\n",
       "      <td>4.845299</td>\n",
       "    </tr>\n",
       "    <tr>\n",
       "      <th>1</th>\n",
       "      <td>7.733644</td>\n",
       "      <td>11.625751</td>\n",
       "      <td>9.973303</td>\n",
       "      <td>6.683363</td>\n",
       "      <td>6.683363</td>\n",
       "      <td>6.683363</td>\n",
       "      <td>6.689012</td>\n",
       "      <td>6.683363</td>\n",
       "      <td>6.775867</td>\n",
       "      <td>6.782110</td>\n",
       "      <td>...</td>\n",
       "      <td>4.566028</td>\n",
       "      <td>4.566028</td>\n",
       "      <td>4.450768</td>\n",
       "      <td>5.584325</td>\n",
       "      <td>10.464658</td>\n",
       "      <td>7.013160</td>\n",
       "      <td>6.180557</td>\n",
       "      <td>7.904690</td>\n",
       "      <td>7.008329</td>\n",
       "      <td>5.010685</td>\n",
       "    </tr>\n",
       "    <tr>\n",
       "      <th>2</th>\n",
       "      <td>8.111763</td>\n",
       "      <td>9.890415</td>\n",
       "      <td>10.094333</td>\n",
       "      <td>6.369346</td>\n",
       "      <td>6.369346</td>\n",
       "      <td>6.369346</td>\n",
       "      <td>6.717002</td>\n",
       "      <td>6.369346</td>\n",
       "      <td>6.773114</td>\n",
       "      <td>6.657667</td>\n",
       "      <td>...</td>\n",
       "      <td>7.529596</td>\n",
       "      <td>7.812297</td>\n",
       "      <td>7.555118</td>\n",
       "      <td>6.818549</td>\n",
       "      <td>11.348025</td>\n",
       "      <td>7.565997</td>\n",
       "      <td>7.882134</td>\n",
       "      <td>7.084733</td>\n",
       "      <td>6.603564</td>\n",
       "      <td>7.008011</td>\n",
       "    </tr>\n",
       "    <tr>\n",
       "      <th>3</th>\n",
       "      <td>7.525281</td>\n",
       "      <td>10.323838</td>\n",
       "      <td>10.341242</td>\n",
       "      <td>6.582438</td>\n",
       "      <td>6.582438</td>\n",
       "      <td>6.582438</td>\n",
       "      <td>6.582438</td>\n",
       "      <td>6.582438</td>\n",
       "      <td>6.582438</td>\n",
       "      <td>6.582438</td>\n",
       "      <td>...</td>\n",
       "      <td>6.683481</td>\n",
       "      <td>6.683481</td>\n",
       "      <td>6.215586</td>\n",
       "      <td>6.303994</td>\n",
       "      <td>12.324958</td>\n",
       "      <td>6.097549</td>\n",
       "      <td>7.779709</td>\n",
       "      <td>7.664347</td>\n",
       "      <td>8.275883</td>\n",
       "      <td>6.157398</td>\n",
       "    </tr>\n",
       "    <tr>\n",
       "      <th>4</th>\n",
       "      <td>8.174033</td>\n",
       "      <td>13.233686</td>\n",
       "      <td>13.113686</td>\n",
       "      <td>6.698243</td>\n",
       "      <td>6.698243</td>\n",
       "      <td>6.698243</td>\n",
       "      <td>6.698243</td>\n",
       "      <td>6.698243</td>\n",
       "      <td>6.659917</td>\n",
       "      <td>6.659917</td>\n",
       "      <td>...</td>\n",
       "      <td>8.089007</td>\n",
       "      <td>8.089007</td>\n",
       "      <td>8.086403</td>\n",
       "      <td>5.490835</td>\n",
       "      <td>10.057899</td>\n",
       "      <td>6.744744</td>\n",
       "      <td>7.853061</td>\n",
       "      <td>7.510925</td>\n",
       "      <td>7.215281</td>\n",
       "      <td>8.044188</td>\n",
       "    </tr>\n",
       "  </tbody>\n",
       "</table>\n",
       "<p>5 rows × 180581 columns</p>\n",
       "</div>"
      ],
      "text/plain": [
       "     0          1          2         3         4         5         6       \\\n",
       "0  8.450766  10.253364  11.358452  6.567711  6.567711  6.567711  6.669056   \n",
       "1  7.733644  11.625751   9.973303  6.683363  6.683363  6.683363  6.689012   \n",
       "2  8.111763   9.890415  10.094333  6.369346  6.369346  6.369346  6.717002   \n",
       "3  7.525281  10.323838  10.341242  6.582438  6.582438  6.582438  6.582438   \n",
       "4  8.174033  13.233686  13.113686  6.698243  6.698243  6.698243  6.698243   \n",
       "\n",
       "     7         8         9       ...    180571    180572    180573    180574  \\\n",
       "0  6.567711  6.653739  6.700100  ...  6.695781  4.314606  3.995066  6.005832   \n",
       "1  6.683363  6.775867  6.782110  ...  4.566028  4.566028  4.450768  5.584325   \n",
       "2  6.369346  6.773114  6.657667  ...  7.529596  7.812297  7.555118  6.818549   \n",
       "3  6.582438  6.582438  6.582438  ...  6.683481  6.683481  6.215586  6.303994   \n",
       "4  6.698243  6.659917  6.659917  ...  8.089007  8.089007  8.086403  5.490835   \n",
       "\n",
       "      180575    180576    180577    180578    180579    180580  \n",
       "0   9.465634  7.453830  5.221391  7.827450  6.394236  4.845299  \n",
       "1  10.464658  7.013160  6.180557  7.904690  7.008329  5.010685  \n",
       "2  11.348025  7.565997  7.882134  7.084733  6.603564  7.008011  \n",
       "3  12.324958  6.097549  7.779709  7.664347  8.275883  6.157398  \n",
       "4  10.057899  6.744744  7.853061  7.510925  7.215281  8.044188  \n",
       "\n",
       "[5 rows x 180581 columns]"
      ]
     },
     "execution_count": 9,
     "metadata": {},
     "output_type": "execute_result"
    }
   ],
   "source": [
    "submit_proba_df = pd.DataFrame(submit_proba)\n",
    "submit_proba_df"
   ]
  },
  {
   "cell_type": "code",
   "execution_count": 11,
   "id": "29b7fa51-cc30-4863-bada-d4dee4d733cf",
   "metadata": {
    "tags": []
   },
   "outputs": [
    {
     "data": {
      "text/plain": [
       "0          7.999097\n",
       "1         11.065412\n",
       "2         10.976202\n",
       "3          6.580220\n",
       "4          6.580220\n",
       "            ...    \n",
       "180576     6.975056\n",
       "180577     6.983370\n",
       "180578     7.598428\n",
       "180579     7.099459\n",
       "180580     6.213116\n",
       "Length: 180581, dtype: float32"
      ]
     },
     "execution_count": 11,
     "metadata": {},
     "output_type": "execute_result"
    }
   ],
   "source": [
    "submit_ans = np.mean(submit_proba_df, axis=0)\n",
    "submit_ans"
   ]
  },
  {
   "cell_type": "code",
   "execution_count": 12,
   "id": "a76be008-d64f-480d-a921-5ccc2a74b440",
   "metadata": {
    "tags": []
   },
   "outputs": [],
   "source": [
    "pd.DataFrame(submit_ans).to_csv('./TabNet.csv',header=True, index=None)"
   ]
  },
  {
   "cell_type": "code",
   "execution_count": null,
   "id": "279fe694-89fe-4e53-8ce8-ee15ad8a371e",
   "metadata": {},
   "outputs": [],
   "source": [
    "result = pd.DataFrame()\n",
    "result['post_id'] = submit_label_df['Pid'].apply(lambda x: 'post' + str(x))\n",
    "result['popularity_score'] = submit_ans.round(decimals=4)\n",
    "\n",
    "out_json = dict()\n",
    "out_json[\"version\"] = \"VERSION 1.0\"\n",
    "out_json[\"result\"] = result.to_dict(orient='records')\n",
    "out_json[\"external_data\"] = {\"used\": \"true\", \"details\": \"catboost\"}\n",
    "f = open('KFold_catboost.json', \"w\")\n",
    "json.dump(out_json, f)\n",
    "f.close()"
   ]
  },
  {
   "cell_type": "code",
   "execution_count": null,
   "id": "10645dc3-1c6d-42f9-a2ec-62439c8313e9",
   "metadata": {},
   "outputs": [],
   "source": []
  },
  {
   "cell_type": "code",
   "execution_count": null,
   "id": "caf65e3d-23bf-4cb8-b3f4-1bd3cb3cffb5",
   "metadata": {},
   "outputs": [],
   "source": []
  },
  {
   "cell_type": "code",
   "execution_count": null,
   "id": "0a1b32d5-07fb-44b7-8e39-7fa2644b9b10",
   "metadata": {},
   "outputs": [],
   "source": []
  },
  {
   "cell_type": "code",
   "execution_count": 15,
   "id": "3ca0b57c-b846-4d4a-8f88-ff716378dd13",
   "metadata": {
    "tags": []
   },
   "outputs": [],
   "source": [
    "ss = []\n",
    "test_preds = model.predict(X_test)"
   ]
  },
  {
   "cell_type": "code",
   "execution_count": 24,
   "id": "4662a074-8fa6-4dce-b58e-d508ab630774",
   "metadata": {
    "tags": []
   },
   "outputs": [
    {
     "name": "stdout",
     "output_type": "stream",
     "text": [
      "MSE: 1.0599, MAE: 0.5958, SRC: 0.9169\n"
     ]
    }
   ],
   "source": [
    "from sklearn.metrics import f1_score, mean_absolute_error, mean_squared_error\n",
    "from scipy import stats\n",
    "valid_pred = model.predict(X_valid).reshape(-1)\n",
    "valid_mse = mean_squared_error(y_valid, valid_pred)\n",
    "valid_mae = mean_absolute_error(y_valid, valid_pred)\n",
    "valid_src = stats.spearmanr(y_valid, valid_pred)[0]\n",
    "    \n",
    "print(\"MSE: %.4f, MAE: %.4f, SRC: %.4f\"%(valid_mse, valid_mae, valid_src))"
   ]
  },
  {
   "cell_type": "code",
   "execution_count": 21,
   "id": "ea8577ef-03de-4ec1-bfcc-1660d02cea37",
   "metadata": {
    "tags": []
   },
   "outputs": [
    {
     "data": {
      "text/plain": [
       "array([ 8.622696 , 12.716267 , 11.696694 , ...,  6.3496876, 10.743238 ,\n",
       "        2.0040984], dtype=float32)"
      ]
     },
     "execution_count": 21,
     "metadata": {},
     "output_type": "execute_result"
    }
   ],
   "source": [
    "test_preds.reshape(-1)"
   ]
  },
  {
   "cell_type": "code",
   "execution_count": 22,
   "id": "822f7acd-a34e-48ad-a81a-8a3490a6e085",
   "metadata": {
    "tags": []
   },
   "outputs": [
    {
     "data": {
      "text/plain": [
       "[array([ 8.622696 , 12.716267 , 11.696694 , ...,  6.3496876, 10.743238 ,\n",
       "         2.0040984], dtype=float32),\n",
       " array([ 8.622696 , 12.716267 , 11.696694 , ...,  6.3496876, 10.743238 ,\n",
       "         2.0040984], dtype=float32)]"
      ]
     },
     "execution_count": 22,
     "metadata": {},
     "output_type": "execute_result"
    }
   ],
   "source": [
    "ss = []\n",
    "ss.append(test_preds.reshape(-1))\n",
    "ss.append(test_preds.reshape(-1))\n",
    "ss"
   ]
  },
  {
   "cell_type": "code",
   "execution_count": 20,
   "id": "31bbf7c7-9307-4450-a96c-67c23d0ea9f2",
   "metadata": {
    "tags": []
   },
   "outputs": [
    {
     "data": {
      "text/plain": [
       "(180581, 1)"
      ]
     },
     "execution_count": 20,
     "metadata": {},
     "output_type": "execute_result"
    }
   ],
   "source": [
    "test_preds.shape"
   ]
  },
  {
   "cell_type": "code",
   "execution_count": null,
   "id": "5eb81427-2f2e-401c-8243-fe572fa1d541",
   "metadata": {},
   "outputs": [],
   "source": []
  }
 ],
 "metadata": {
  "kernelspec": {
   "display_name": "Python 3 (ipykernel)",
   "language": "python",
   "name": "python3"
  },
  "language_info": {
   "codemirror_mode": {
    "name": "ipython",
    "version": 3
   },
   "file_extension": ".py",
   "mimetype": "text/x-python",
   "name": "python",
   "nbconvert_exporter": "python",
   "pygments_lexer": "ipython3",
   "version": "3.8.10"
  }
 },
 "nbformat": 4,
 "nbformat_minor": 5
}
