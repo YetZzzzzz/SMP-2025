{
 "cells": [
  {
   "cell_type": "code",
   "execution_count": 2,
   "id": "86e44f29-0c7d-497a-8af6-579676652c14",
   "metadata": {
    "tags": []
   },
   "outputs": [],
   "source": [
    "## use autogluon for multimodal regression\n",
    "# !pip install -U pip\n",
    "# !pip install -U setuptools wheel\n",
    "# !pip install autogluon"
   ]
  },
  {
   "cell_type": "code",
   "execution_count": 2,
   "id": "463a0842-1cfb-4424-a39b-b0f64498e99b",
   "metadata": {
    "tags": []
   },
   "outputs": [],
   "source": [
    "## 直接读取原始数据，并且保留原来的文本和图像，并把tag和title拼接\n",
    "import random\n",
    "import os\n",
    "import re\n",
    "import json\n",
    "import numpy as np\n",
    "import pandas as pd\n",
    "import lightgbm as lgbm\n",
    "from datetime import datetime\n",
    "from time import gmtime, strftime\n",
    "from scipy import stats\n",
    "from sklearn.feature_extraction.text import TfidfVectorizer\n",
    "from sklearn.decomposition import TruncatedSVD\n",
    "import torch\n",
    "import lightgbm\n",
    "from sklearn.model_selection import StratifiedKFold, KFold\n",
    "from sklearn.metrics import f1_score, mean_absolute_error, mean_squared_error\n",
    "random_seed = 2020\n",
    "random.seed(random_seed)\n",
    "np.random.seed(random_seed)"
   ]
  },
  {
   "cell_type": "code",
   "execution_count": 30,
   "id": "a7385216-2ef7-426b-a890-bb3eab2df589",
   "metadata": {
    "tags": []
   },
   "outputs": [
    {
     "data": {
      "text/html": [
       "<div>\n",
       "<style scoped>\n",
       "    .dataframe tbody tr th:only-of-type {\n",
       "        vertical-align: middle;\n",
       "    }\n",
       "\n",
       "    .dataframe tbody tr th {\n",
       "        vertical-align: top;\n",
       "    }\n",
       "\n",
       "    .dataframe thead th {\n",
       "        text-align: right;\n",
       "    }\n",
       "</style>\n",
       "<table border=\"1\" class=\"dataframe\">\n",
       "  <thead>\n",
       "    <tr style=\"text-align: right;\">\n",
       "      <th></th>\n",
       "      <th>Uid</th>\n",
       "      <th>Uid_count</th>\n",
       "      <th>Category</th>\n",
       "      <th>Subcategory</th>\n",
       "      <th>Concept</th>\n",
       "      <th>Title_len</th>\n",
       "      <th>Title_number</th>\n",
       "      <th>Alltags_len</th>\n",
       "      <th>Alltags_number</th>\n",
       "      <th>img_length</th>\n",
       "      <th>...</th>\n",
       "      <th>followerCount</th>\n",
       "      <th>followingCount</th>\n",
       "      <th>Ispublic</th>\n",
       "      <th>label</th>\n",
       "      <th>img_file</th>\n",
       "      <th>Category.1</th>\n",
       "      <th>Concept.1</th>\n",
       "      <th>Subcategory.1</th>\n",
       "      <th>Alltags</th>\n",
       "      <th>Title</th>\n",
       "    </tr>\n",
       "  </thead>\n",
       "  <tbody>\n",
       "    <tr>\n",
       "      <th>0</th>\n",
       "      <td>21894</td>\n",
       "      <td>4</td>\n",
       "      <td>5</td>\n",
       "      <td>65</td>\n",
       "      <td>75</td>\n",
       "      <td>33</td>\n",
       "      <td>6</td>\n",
       "      <td>128</td>\n",
       "      <td>12</td>\n",
       "      <td>333</td>\n",
       "      <td>...</td>\n",
       "      <td>2405</td>\n",
       "      <td>2729</td>\n",
       "      <td>1</td>\n",
       "      <td>11.18</td>\n",
       "      <td>train/59@N75/775.jpg</td>\n",
       "      <td>Fashion</td>\n",
       "      <td>glam</td>\n",
       "      <td>Fashion</td>\n",
       "      <td>rock punk transgender tranny electronicmusic e...</td>\n",
       "      <td>Luis Drayton - Edinburgh shoot #6</td>\n",
       "    </tr>\n",
       "    <tr>\n",
       "      <th>1</th>\n",
       "      <td>53866</td>\n",
       "      <td>13</td>\n",
       "      <td>0</td>\n",
       "      <td>75</td>\n",
       "      <td>139</td>\n",
       "      <td>56</td>\n",
       "      <td>13</td>\n",
       "      <td>800</td>\n",
       "      <td>65</td>\n",
       "      <td>500</td>\n",
       "      <td>...</td>\n",
       "      <td>8491</td>\n",
       "      <td>236</td>\n",
       "      <td>1</td>\n",
       "      <td>15.15</td>\n",
       "      <td>train/1@N18/1075.jpg</td>\n",
       "      <td>Travel&amp;Active&amp;Sports</td>\n",
       "      <td>fifa</td>\n",
       "      <td>Soccer</td>\n",
       "      <td>brazil rio brasil riodejaneiro by maria fifa m...</td>\n",
       "      <td>Arena da Barra - Arena HSBC - Arena do PAN   #...</td>\n",
       "    </tr>\n",
       "    <tr>\n",
       "      <th>2</th>\n",
       "      <td>26948</td>\n",
       "      <td>1</td>\n",
       "      <td>3</td>\n",
       "      <td>42</td>\n",
       "      <td>480</td>\n",
       "      <td>12</td>\n",
       "      <td>2</td>\n",
       "      <td>188</td>\n",
       "      <td>23</td>\n",
       "      <td>500</td>\n",
       "      <td>...</td>\n",
       "      <td>1550</td>\n",
       "      <td>1346</td>\n",
       "      <td>1</td>\n",
       "      <td>10.99</td>\n",
       "      <td>train/351@N64/4890.jpg</td>\n",
       "      <td>Entertainment</td>\n",
       "      <td>cinema</td>\n",
       "      <td>Movies</td>\n",
       "      <td>old cinema beauty marilyn photoshop movie joke...</td>\n",
       "      <td>MARILYN 2015</td>\n",
       "    </tr>\n",
       "    <tr>\n",
       "      <th>3</th>\n",
       "      <td>355</td>\n",
       "      <td>1</td>\n",
       "      <td>10</td>\n",
       "      <td>68</td>\n",
       "      <td>225</td>\n",
       "      <td>18</td>\n",
       "      <td>3</td>\n",
       "      <td>61</td>\n",
       "      <td>9</td>\n",
       "      <td>500</td>\n",
       "      <td>...</td>\n",
       "      <td>1233</td>\n",
       "      <td>1115</td>\n",
       "      <td>1</td>\n",
       "      <td>8.63</td>\n",
       "      <td>train/6@N59/6568.jpg</td>\n",
       "      <td>Holiday&amp;Celebrations</td>\n",
       "      <td>old</td>\n",
       "      <td>Birthday</td>\n",
       "      <td>pictures old family scans brothers sister 1958...</td>\n",
       "      <td>Knikkertijd - 1959</td>\n",
       "    </tr>\n",
       "    <tr>\n",
       "      <th>4</th>\n",
       "      <td>315</td>\n",
       "      <td>31</td>\n",
       "      <td>2</td>\n",
       "      <td>43</td>\n",
       "      <td>317</td>\n",
       "      <td>8</td>\n",
       "      <td>1</td>\n",
       "      <td>146</td>\n",
       "      <td>19</td>\n",
       "      <td>500</td>\n",
       "      <td>...</td>\n",
       "      <td>5781</td>\n",
       "      <td>13</td>\n",
       "      <td>1</td>\n",
       "      <td>11.16</td>\n",
       "      <td>train/1617@N40/7079.jpg</td>\n",
       "      <td>Food</td>\n",
       "      <td>thirsty</td>\n",
       "      <td>Drinks</td>\n",
       "      <td>hot sahara animal animals desert bottles drink...</td>\n",
       "      <td>CAMELS01</td>\n",
       "    </tr>\n",
       "    <tr>\n",
       "      <th>...</th>\n",
       "      <td>...</td>\n",
       "      <td>...</td>\n",
       "      <td>...</td>\n",
       "      <td>...</td>\n",
       "      <td>...</td>\n",
       "      <td>...</td>\n",
       "      <td>...</td>\n",
       "      <td>...</td>\n",
       "      <td>...</td>\n",
       "      <td>...</td>\n",
       "      <td>...</td>\n",
       "      <td>...</td>\n",
       "      <td>...</td>\n",
       "      <td>...</td>\n",
       "      <td>...</td>\n",
       "      <td>...</td>\n",
       "      <td>...</td>\n",
       "      <td>...</td>\n",
       "      <td>...</td>\n",
       "      <td>...</td>\n",
       "      <td>...</td>\n",
       "    </tr>\n",
       "    <tr>\n",
       "      <th>486189</th>\n",
       "      <td>46088</td>\n",
       "      <td>2</td>\n",
       "      <td>0</td>\n",
       "      <td>35</td>\n",
       "      <td>301</td>\n",
       "      <td>6</td>\n",
       "      <td>1</td>\n",
       "      <td>78</td>\n",
       "      <td>13</td>\n",
       "      <td>500</td>\n",
       "      <td>...</td>\n",
       "      <td>489</td>\n",
       "      <td>612</td>\n",
       "      <td>1</td>\n",
       "      <td>0.00</td>\n",
       "      <td>test/49686@N77/1118324.jpg</td>\n",
       "      <td>Travel&amp;Active&amp;Sports</td>\n",
       "      <td>sea</td>\n",
       "      <td>Seattle</td>\n",
       "      <td>natur nature frog sea lake fish outdoor macro ...</td>\n",
       "      <td>Quaak!</td>\n",
       "    </tr>\n",
       "    <tr>\n",
       "      <th>486190</th>\n",
       "      <td>12280</td>\n",
       "      <td>7</td>\n",
       "      <td>0</td>\n",
       "      <td>60</td>\n",
       "      <td>110</td>\n",
       "      <td>25</td>\n",
       "      <td>4</td>\n",
       "      <td>164</td>\n",
       "      <td>23</td>\n",
       "      <td>500</td>\n",
       "      <td>...</td>\n",
       "      <td>0</td>\n",
       "      <td>0</td>\n",
       "      <td>1</td>\n",
       "      <td>0.00</td>\n",
       "      <td>test/31147@N75/1118329.jpg</td>\n",
       "      <td>Travel&amp;Active&amp;Sports</td>\n",
       "      <td>cars</td>\n",
       "      <td>Cars</td>\n",
       "      <td>11 arisk okruh veternov 2016 10 jn preov veter...</td>\n",
       "      <td>arisk okruh veternov 2016</td>\n",
       "    </tr>\n",
       "    <tr>\n",
       "      <th>486191</th>\n",
       "      <td>43496</td>\n",
       "      <td>9</td>\n",
       "      <td>4</td>\n",
       "      <td>28</td>\n",
       "      <td>186</td>\n",
       "      <td>41</td>\n",
       "      <td>7</td>\n",
       "      <td>85</td>\n",
       "      <td>9</td>\n",
       "      <td>500</td>\n",
       "      <td>...</td>\n",
       "      <td>702</td>\n",
       "      <td>113</td>\n",
       "      <td>1</td>\n",
       "      <td>0.00</td>\n",
       "      <td>test/5656@N26/1118336.jpg</td>\n",
       "      <td>Animal</td>\n",
       "      <td>cat</td>\n",
       "      <td>Cats</td>\n",
       "      <td>holland netherlands amsterdam cat nl ramses gu...</td>\n",
       "      <td>Bike &amp; Cat / Eerste Anjeliers Dwarsstraat</td>\n",
       "    </tr>\n",
       "    <tr>\n",
       "      <th>486192</th>\n",
       "      <td>5492</td>\n",
       "      <td>17</td>\n",
       "      <td>7</td>\n",
       "      <td>27</td>\n",
       "      <td>54</td>\n",
       "      <td>15</td>\n",
       "      <td>3</td>\n",
       "      <td>305</td>\n",
       "      <td>35</td>\n",
       "      <td>500</td>\n",
       "      <td>...</td>\n",
       "      <td>1092</td>\n",
       "      <td>389</td>\n",
       "      <td>1</td>\n",
       "      <td>0.00</td>\n",
       "      <td>test/28302@N36/1118349.jpg</td>\n",
       "      <td>Whether&amp;Season</td>\n",
       "      <td>white</td>\n",
       "      <td>Snowing</td>\n",
       "      <td>street people bw white black netherlands monoc...</td>\n",
       "      <td>The Stairs crew</td>\n",
       "    </tr>\n",
       "    <tr>\n",
       "      <th>486193</th>\n",
       "      <td>17523</td>\n",
       "      <td>4</td>\n",
       "      <td>7</td>\n",
       "      <td>4</td>\n",
       "      <td>351</td>\n",
       "      <td>21</td>\n",
       "      <td>4</td>\n",
       "      <td>29</td>\n",
       "      <td>4</td>\n",
       "      <td>500</td>\n",
       "      <td>...</td>\n",
       "      <td>347</td>\n",
       "      <td>612</td>\n",
       "      <td>1</td>\n",
       "      <td>0.00</td>\n",
       "      <td>test/102192@N21/1118356.jpg</td>\n",
       "      <td>Whether&amp;Season</td>\n",
       "      <td>flower</td>\n",
       "      <td>Spring</td>\n",
       "      <td>flower nature fleur extrieure</td>\n",
       "      <td>qui veut souffler ...</td>\n",
       "    </tr>\n",
       "  </tbody>\n",
       "</table>\n",
       "<p>486194 rows × 89 columns</p>\n",
       "</div>"
      ],
      "text/plain": [
       "          Uid  Uid_count Category Subcategory Concept  Title_len  \\\n",
       "0       21894          4        5          65      75         33   \n",
       "1       53866         13        0          75     139         56   \n",
       "2       26948          1        3          42     480         12   \n",
       "3         355          1       10          68     225         18   \n",
       "4         315         31        2          43     317          8   \n",
       "...       ...        ...      ...         ...     ...        ...   \n",
       "486189  46088          2        0          35     301          6   \n",
       "486190  12280          7        0          60     110         25   \n",
       "486191  43496          9        4          28     186         41   \n",
       "486192   5492         17        7          27      54         15   \n",
       "486193  17523          4        7           4     351         21   \n",
       "\n",
       "        Title_number  Alltags_len  Alltags_number  img_length  ...  \\\n",
       "0                  6          128              12         333  ...   \n",
       "1                 13          800              65         500  ...   \n",
       "2                  2          188              23         500  ...   \n",
       "3                  3           61               9         500  ...   \n",
       "4                  1          146              19         500  ...   \n",
       "...              ...          ...             ...         ...  ...   \n",
       "486189             1           78              13         500  ...   \n",
       "486190             4          164              23         500  ...   \n",
       "486191             7           85               9         500  ...   \n",
       "486192             3          305              35         500  ...   \n",
       "486193             4           29               4         500  ...   \n",
       "\n",
       "        followerCount  followingCount  Ispublic  label  \\\n",
       "0                2405            2729         1  11.18   \n",
       "1                8491             236         1  15.15   \n",
       "2                1550            1346         1  10.99   \n",
       "3                1233            1115         1   8.63   \n",
       "4                5781              13         1  11.16   \n",
       "...               ...             ...       ...    ...   \n",
       "486189            489             612         1   0.00   \n",
       "486190              0               0         1   0.00   \n",
       "486191            702             113         1   0.00   \n",
       "486192           1092             389         1   0.00   \n",
       "486193            347             612         1   0.00   \n",
       "\n",
       "                           img_file            Category.1  Concept.1  \\\n",
       "0              train/59@N75/775.jpg               Fashion       glam   \n",
       "1              train/1@N18/1075.jpg  Travel&Active&Sports       fifa   \n",
       "2            train/351@N64/4890.jpg         Entertainment     cinema   \n",
       "3              train/6@N59/6568.jpg  Holiday&Celebrations        old   \n",
       "4           train/1617@N40/7079.jpg                  Food    thirsty   \n",
       "...                             ...                   ...        ...   \n",
       "486189   test/49686@N77/1118324.jpg  Travel&Active&Sports        sea   \n",
       "486190   test/31147@N75/1118329.jpg  Travel&Active&Sports       cars   \n",
       "486191    test/5656@N26/1118336.jpg                Animal        cat   \n",
       "486192   test/28302@N36/1118349.jpg        Whether&Season      white   \n",
       "486193  test/102192@N21/1118356.jpg        Whether&Season     flower   \n",
       "\n",
       "        Subcategory.1                                            Alltags  \\\n",
       "0             Fashion  rock punk transgender tranny electronicmusic e...   \n",
       "1              Soccer  brazil rio brasil riodejaneiro by maria fifa m...   \n",
       "2              Movies  old cinema beauty marilyn photoshop movie joke...   \n",
       "3            Birthday  pictures old family scans brothers sister 1958...   \n",
       "4              Drinks  hot sahara animal animals desert bottles drink...   \n",
       "...               ...                                                ...   \n",
       "486189        Seattle  natur nature frog sea lake fish outdoor macro ...   \n",
       "486190           Cars  11 arisk okruh veternov 2016 10 jn preov veter...   \n",
       "486191           Cats  holland netherlands amsterdam cat nl ramses gu...   \n",
       "486192        Snowing  street people bw white black netherlands monoc...   \n",
       "486193         Spring                      flower nature fleur extrieure   \n",
       "\n",
       "                                                    Title  \n",
       "0                       Luis Drayton - Edinburgh shoot #6  \n",
       "1       Arena da Barra - Arena HSBC - Arena do PAN   #...  \n",
       "2                                            MARILYN 2015  \n",
       "3                                      Knikkertijd - 1959  \n",
       "4                                                CAMELS01  \n",
       "...                                                   ...  \n",
       "486189                                             Quaak!  \n",
       "486190                          arisk okruh veternov 2016  \n",
       "486191          Bike & Cat / Eerste Anjeliers Dwarsstraat  \n",
       "486192                                    The Stairs crew  \n",
       "486193                              qui veut souffler ...  \n",
       "\n",
       "[486194 rows x 89 columns]"
      ]
     },
     "execution_count": 30,
     "metadata": {},
     "output_type": "execute_result"
    }
   ],
   "source": [
    "all_data = pd.read_csv('../data/forauto.csv')\n",
    "cate_cols = ['Uid', 'Category', 'Subcategory', 'Concept', 'Mediatype', 'hour', 'day', 'weekday', 'week_hour', 'year_weekday','Geoaccuracy', 'ispro' , 'Ispublic']\n",
    "all_data[cate_cols] = all_data[cate_cols].astype(\"category\")\n",
    "train_all_data = all_data[:-180581]\n",
    "submit_all_data = all_data[-180581:]\n",
    "all_data"
   ]
  },
  {
   "cell_type": "code",
   "execution_count": 5,
   "id": "29682c9c-dd20-41bf-8039-7ddabb8269f8",
   "metadata": {
    "tags": []
   },
   "outputs": [
    {
     "data": {
      "text/plain": [
       "180581"
      ]
     },
     "execution_count": 5,
     "metadata": {},
     "output_type": "execute_result"
    }
   ],
   "source": [
    "list(submit_all_data['label']).count(0)"
   ]
  },
  {
   "cell_type": "code",
   "execution_count": 31,
   "id": "c61ad967-341f-4424-97e6-6791cd41c57f",
   "metadata": {
    "tags": []
   },
   "outputs": [],
   "source": [
    "label = 'label'\n",
    "image_col = 'img_file'"
   ]
  },
  {
   "cell_type": "code",
   "execution_count": 32,
   "id": "e0e91849-2754-4b7b-976a-bec6615f95de",
   "metadata": {
    "tags": []
   },
   "outputs": [],
   "source": [
    "dataset_path = '/MMChallenge/SMP/data'"
   ]
  },
  {
   "cell_type": "code",
   "execution_count": 33,
   "id": "9528cddd-d9ce-4f79-9c5d-34830dbc3110",
   "metadata": {
    "tags": []
   },
   "outputs": [
    {
     "name": "stderr",
     "output_type": "stream",
     "text": [
      "/tmp/ipykernel_673597/1922593402.py:5: SettingWithCopyWarning: \n",
      "A value is trying to be set on a copy of a slice from a DataFrame.\n",
      "Try using .loc[row_indexer,col_indexer] = value instead\n",
      "\n",
      "See the caveats in the documentation: https://pandas.pydata.org/pandas-docs/stable/user_guide/indexing.html#returning-a-view-versus-a-copy\n",
      "  train_all_data[image_col] = train_all_data[image_col].apply(lambda ele: path_expander(ele, base_folder=dataset_path))\n",
      "/tmp/ipykernel_673597/1922593402.py:6: SettingWithCopyWarning: \n",
      "A value is trying to be set on a copy of a slice from a DataFrame.\n",
      "Try using .loc[row_indexer,col_indexer] = value instead\n",
      "\n",
      "See the caveats in the documentation: https://pandas.pydata.org/pandas-docs/stable/user_guide/indexing.html#returning-a-view-versus-a-copy\n",
      "  submit_all_data[image_col] = submit_all_data[image_col].apply(lambda ele: path_expander(ele, base_folder=dataset_path))\n"
     ]
    },
    {
     "data": {
      "text/plain": [
       "'/MMChallenge/SMP/data/train/59@N75/775.jpg'"
      ]
     },
     "execution_count": 33,
     "metadata": {},
     "output_type": "execute_result"
    }
   ],
   "source": [
    "def path_expander(path, base_folder):\n",
    "    path_l = path.split(';')\n",
    "    return ';'.join([os.path.abspath(os.path.join(base_folder, path)) for path in path_l])\n",
    "\n",
    "train_all_data[image_col] = train_all_data[image_col].apply(lambda ele: path_expander(ele, base_folder=dataset_path))\n",
    "submit_all_data[image_col] = submit_all_data[image_col].apply(lambda ele: path_expander(ele, base_folder=dataset_path))\n",
    "\n",
    "train_all_data[image_col].iloc[0]"
   ]
  },
  {
   "cell_type": "code",
   "execution_count": 34,
   "id": "2630ee8e-85df-4ab5-98ba-f5e389983b05",
   "metadata": {
    "tags": []
   },
   "outputs": [
    {
     "data": {
      "text/plain": [
       "Uid                                                          53866\n",
       "Uid_count                                                       13\n",
       "Category                                                         0\n",
       "Subcategory                                                     75\n",
       "Concept                                                        139\n",
       "                                       ...                        \n",
       "Category.1                                    Travel&Active&Sports\n",
       "Concept.1                                                     fifa\n",
       "Subcategory.1                                               Soccer\n",
       "Alltags          brazil rio brasil riodejaneiro by maria fifa m...\n",
       "Title            Arena da Barra - Arena HSBC - Arena do PAN   #...\n",
       "Name: 1, Length: 89, dtype: object"
      ]
     },
     "execution_count": 34,
     "metadata": {},
     "output_type": "execute_result"
    }
   ],
   "source": [
    "example_row = train_all_data.iloc[1]\n",
    "\n",
    "example_row"
   ]
  },
  {
   "cell_type": "code",
   "execution_count": 35,
   "id": "edfdcbe0-4d6e-4286-9b95-4a2bf14206f7",
   "metadata": {
    "tags": []
   },
   "outputs": [
    {
     "data": {
      "text/plain": [
       "'brazil rio brasil riodejaneiro by maria fifa military games arena da pan claudio barra 2007 futsal olympicgames lenk claudiolara aqutico copabacana sunsetinrio militaryworldgames brasll brazll estdioolmpicojoohavelange praiasdorio unitedkingdomofengenhodedentro rio2016 clcrio clcbr amanhecernorio claudiol avembaixadorabelardobueno clccam olimpadasmilitares mundialmilitarrio2011 claudiorio atraes carnivalbyclaudio claudoil engenhobyclaudio estdioolmpicojoohavelangebyclaudio barradatijucabyclaudio carnavalbyclaudio rio450 rio450anos flickrbyclaudio claudioarena lapabyclaudio rio2016byclaudio brasil2014byclaudio rio2014byclaudio brazil2014byclaudio csim2011 claudioparque hsbcbyclaudio claudiomundial rlodejaneiro rlodejanelro claudiobatman ciadedorio sunrisainrio braekingdawninrio parambulando'"
      ]
     },
     "execution_count": 35,
     "metadata": {},
     "output_type": "execute_result"
    }
   ],
   "source": [
    "example_row['Alltags']"
   ]
  },
  {
   "cell_type": "code",
   "execution_count": 36,
   "id": "743495a6-36b7-422c-8822-e7c1e2e73e82",
   "metadata": {
    "tags": []
   },
   "outputs": [
    {
     "data": {
      "image/jpeg": "[encoded data removed]",
      "text/plain": [
       "<IPython.core.display.Image object>"
      ]
     },
     "metadata": {},
     "output_type": "display_data"
    }
   ],
   "source": [
    "example_image = example_row['img_file']\n",
    "\n",
    "from IPython.display import Image, display\n",
    "pil_img = Image(filename=example_image)\n",
    "display(pil_img)"
   ]
  },
  {
   "cell_type": "code",
   "execution_count": 37,
   "id": "f0c8c878-83c8-4153-bffc-9772d9d74f77",
   "metadata": {
    "tags": []
   },
   "outputs": [
    {
     "name": "stdout",
     "output_type": "stream",
     "text": [
      "('category', [])     : 13 | ['Uid', 'Category', 'Subcategory', 'Concept', 'Mediatype', ...]\n",
      "('float', [])        : 46 | ['svd_mode_t_0', 'svd_mode_t_1', 'svd_mode_t_2', 'svd_mode_t_3', 'svd_mode_t_4', ...]\n",
      "('int', [])          : 24 | ['Uid_count', 'Title_len', 'Title_number', 'Alltags_len', 'Alltags_number', ...]\n",
      "('object', [])       :  4 | ['img_file', 'Category.1', 'Concept.1', 'Subcategory.1']\n",
      "('object', ['text']) :  2 | ['Alltags', 'Title']\n"
     ]
    }
   ],
   "source": [
    "from autogluon.tabular import FeatureMetadata\n",
    "feature_metadata = FeatureMetadata.from_df(train_all_data)\n",
    "\n",
    "print(feature_metadata)"
   ]
  },
  {
   "cell_type": "code",
   "execution_count": 38,
   "id": "9c7eb8b2-320c-47cf-92d7-53ecd21fb705",
   "metadata": {
    "tags": []
   },
   "outputs": [
    {
     "name": "stdout",
     "output_type": "stream",
     "text": [
      "('category', [])           : 13 | ['Uid', 'Category', 'Subcategory', 'Concept', 'Mediatype', ...]\n",
      "('float', [])              : 46 | ['svd_mode_t_0', 'svd_mode_t_1', 'svd_mode_t_2', 'svd_mode_t_3', 'svd_mode_t_4', ...]\n",
      "('int', [])                : 24 | ['Uid_count', 'Title_len', 'Title_number', 'Alltags_len', 'Alltags_number', ...]\n",
      "('object', [])             :  3 | ['Category.1', 'Concept.1', 'Subcategory.1']\n",
      "('object', ['image_path']) :  1 | ['img_file']\n",
      "('object', ['text'])       :  2 | ['Alltags', 'Title']\n"
     ]
    }
   ],
   "source": [
    "feature_metadata = feature_metadata.add_special_types({image_col: ['image_path']})\n",
    "\n",
    "print(feature_metadata)"
   ]
  },
  {
   "cell_type": "code",
   "execution_count": 39,
   "id": "52bf749f-8cd4-4548-8844-ae5fef5eb42c",
   "metadata": {
    "tags": []
   },
   "outputs": [
    {
     "data": {
      "text/plain": [
       "{'NN_TORCH': {},\n",
       " 'GBM': [{},\n",
       "  {'extra_trees': True, 'ag_args': {'name_suffix': 'XT'}},\n",
       "  'GBMLarge'],\n",
       " 'CAT': {},\n",
       " 'XGB': {},\n",
       " 'AG_AUTOMM': {},\n",
       " 'VW': {}}"
      ]
     },
     "execution_count": 39,
     "metadata": {},
     "output_type": "execute_result"
    }
   ],
   "source": [
    "from autogluon.tabular.configs.hyperparameter_configs import get_hyperparameter_config\n",
    "hyperparameters = get_hyperparameter_config('multimodal')\n",
    "\n",
    "hyperparameters"
   ]
  },
  {
   "cell_type": "code",
   "execution_count": 40,
   "id": "686fffbb-1485-41d1-afda-1e5e388152a9",
   "metadata": {
    "tags": []
   },
   "outputs": [
    {
     "name": "stderr",
     "output_type": "stream",
     "text": [
      "No path specified. Models will be saved in: \"AutogluonModels/ag-20230527_132929/\"\n",
      "Warning: Training may take a very long time because `time_limit` was not specified and `train_data` is large (305613 samples, 371.81 MB).\n",
      "\tConsider setting `time_limit` to ensure training finishes within an expected duration or experiment with a small portion of `train_data` to identify an ideal `presets` and `hyperparameters` configuration.\n",
      "Beginning AutoGluon training ...\n",
      "AutoGluon will save models to \"AutogluonModels/ag-20230527_132929/\"\n",
      "AutoGluon Version:  0.7.0\n",
      "Python Version:     3.8.10\n",
      "Operating System:   Linux\n",
      "Platform Machine:   x86_64\n",
      "Platform Version:   #78~20.04.1-Ubuntu SMP Wed Apr 19 11:26:48 UTC 2023\n",
      "Train Data Rows:    305613\n",
      "Train Data Columns: 88\n",
      "Label Column: label\n",
      "Preprocessing data ...\n",
      "AutoGluon infers your prediction problem is: 'regression' (because dtype of label-column == float and many unique label-values observed).\n",
      "\tLabel info (max, min, mean, stddev): (16.56, 1.0, 6.40552, 2.47301)\n",
      "\tIf 'regression' is not the correct problem_type, please manually specify the problem_type parameter during predictor init (You may specify problem_type as one of: ['binary', 'multiclass', 'regression'])\n",
      "Using Feature Generators to preprocess the data ...\n",
      "Fitting AutoMLPipelineFeatureGenerator...\n",
      "\tAvailable Memory:                    110962.83 MB\n",
      "\tTrain Data (Original)  Memory Usage: 369.37 MB (0.3% of available memory)\n",
      "\tStage 1 Generators:\n",
      "\t\tFitting AsTypeFeatureGenerator...\n",
      "\t\t\tNote: Converting 4 features to boolean dtype as they only contain 2 unique values.\n",
      "\tStage 2 Generators:\n",
      "\t\tFitting FillNaFeatureGenerator...\n",
      "\tStage 3 Generators:\n",
      "\t\tFitting IdentityFeatureGenerator...\n",
      "\t\tFitting IdentityFeatureGenerator...\n",
      "\t\t\tFitting RenameFeatureGenerator...\n",
      "\t\tFitting CategoryFeatureGenerator...\n",
      "\t\t\tFitting CategoryMemoryMinimizeFeatureGenerator...\n",
      "\t\tFitting TextSpecialFeatureGenerator...\n",
      "\t\t\tFitting BinnedFeatureGenerator...\n",
      "\t\t\tFitting DropDuplicatesFeatureGenerator...\n",
      "\t\tFitting TextNgramFeatureGenerator...\n",
      "\t\t\tFitting CountVectorizer for text features: ['Alltags', 'Title']\n",
      "\t\t\tCountVectorizer fit with vocabulary size = 10000\n",
      "\t\tWarning: Due to memory constraints, ngram feature count is being reduced. Allocate more memory to maximize model quality.\n",
      "\t\tReducing Vectorizer vocab size from 10000 to 3521 to avoid OOM error\n",
      "\t\tFitting IdentityFeatureGenerator...\n",
      "\t\tFitting IsNanFeatureGenerator...\n",
      "\tStage 4 Generators:\n",
      "\t\tFitting DropUniqueFeatureGenerator...\n",
      "\tTypes of features in original data (raw dtype, special dtypes):\n",
      "\t\t('category', [])           : 13 | ['Uid', 'Category', 'Subcategory', 'Concept', 'Mediatype', ...]\n",
      "\t\t('float', [])              : 45 | ['svd_mode_t_0', 'svd_mode_t_1', 'svd_mode_t_2', 'svd_mode_t_3', 'svd_mode_t_4', ...]\n",
      "\t\t('int', [])                : 24 | ['Uid_count', 'Title_len', 'Title_number', 'Alltags_len', 'Alltags_number', ...]\n",
      "\t\t('object', [])             :  3 | ['Category.1', 'Concept.1', 'Subcategory.1']\n",
      "\t\t('object', ['image_path']) :  1 | ['img_file']\n",
      "\t\t('object', ['text'])       :  2 | ['Alltags', 'Title']\n",
      "\tTypes of features in processed data (raw dtype, special dtypes):\n",
      "\t\t('category', [])                    :   13 | ['Uid', 'Category', 'Subcategory', 'Concept', 'hour', ...]\n",
      "\t\t('category', ['text_as_category'])  :    2 | ['Alltags', 'Title']\n",
      "\t\t('float', [])                       :   45 | ['svd_mode_t_0', 'svd_mode_t_1', 'svd_mode_t_2', 'svd_mode_t_3', 'svd_mode_t_4', ...]\n",
      "\t\t('int', [])                         :   23 | ['Uid_count', 'Title_len', 'Title_number', 'Alltags_len', 'Alltags_number', ...]\n",
      "\t\t('int', ['binned', 'text_special']) :   37 | ['Alltags.char_count', 'Alltags.word_count', 'Alltags.lower_ratio', 'Alltags.digit_ratio', 'Alltags.special_ratio', ...]\n",
      "\t\t('int', ['bool'])                   :    4 | ['img_model', 'Mediatype', 'ispro', 'Ispublic']\n",
      "\t\t('int', ['text_ngram'])             : 3522 | ['__nlp__.01', '__nlp__.02', '__nlp__.03', '__nlp__.04', '__nlp__.06', ...]\n",
      "\t\t('object', ['image_path'])          :    1 | ['img_file']\n",
      "\t\t('object', ['text'])                :    2 | ['Alltags_raw_text', 'Title_raw_text']\n",
      "\t150.5s = Fit runtime\n",
      "\t88 features in original data used to generate 3649 features in processed data.\n",
      "\tTrain Data (Processed) Memory Usage: 2472.03 MB (2.2% of available memory)\n",
      "Data preprocessing and feature engineering runtime = 161.45s ...\n",
      "AutoGluon will gauge predictive performance using evaluation metric: 'root_mean_squared_error'\n",
      "\tThis metric's sign has been flipped to adhere to being higher_is_better. The metric score can be multiplied by -1 to get the metric value.\n",
      "\tTo change this, specify the eval_metric parameter of Predictor()\n",
      "Automatically generating train/validation split with holdout_frac=0.01, Train Rows: 302556, Val Rows: 3057\n",
      "Excluded Model Types: ['GBM']\n",
      "\tFound 'GBM' model in hyperparameters, but 'GBM' is present in `excluded_model_types` and will be removed.\n",
      "\tFound 'GBM' model in hyperparameters, but 'GBM' is present in `excluded_model_types` and will be removed.\n",
      "\tFound 'GBM' model in hyperparameters, but 'GBM' is present in `excluded_model_types` and will be removed.\n",
      "Fitting 5 L1 models ...\n",
      "Fitting model: CatBoost ...\n",
      "\tTraining CatBoost with GPU, note that this may negatively impact model quality compared to CPU training.\n",
      "\tWarning: CatBoost on GPU is experimental. If you encounter issues, use CPU for training CatBoost instead.\n",
      "Warning: less than 75% gpu memory available for training. Free: 13777.1875 Total: 24259.6875\n",
      "Warning: less than 75% gpu memory available for training. Free: 15169.1875 Total: 24259.6875\n",
      "Warning: less than 75% gpu memory available for training. Free: 17399.1875 Total: 24259.6875\n",
      "Warning: less than 75% gpu memory available for training. Free: 17399.1875 Total: 24259.6875\n",
      "Warning: less than 75% gpu memory available for training. Free: 17399.1875 Total: 24259.6875\n",
      "\t-0.8794\t = Validation score   (-root_mean_squared_error)\n",
      "\t1196.43s\t = Training   runtime\n",
      "\t0.3s\t = Validation runtime\n",
      "Fitting model: XGBoost ...\n",
      "/usr/local/lib/python3.8/dist-packages/pandas/core/arrays/base.py:513: RuntimeWarning: invalid value encountered in cast\n",
      "  result = np.asarray(self, dtype=dtype)\n",
      "/usr/local/lib/python3.8/dist-packages/pandas/core/arrays/base.py:513: RuntimeWarning: invalid value encountered in cast\n",
      "  result = np.asarray(self, dtype=dtype)\n",
      "/usr/local/lib/python3.8/dist-packages/pandas/core/arrays/base.py:513: RuntimeWarning: invalid value encountered in cast\n",
      "  result = np.asarray(self, dtype=dtype)\n",
      "/usr/local/lib/python3.8/dist-packages/pandas/core/arrays/base.py:513: RuntimeWarning: invalid value encountered in cast\n",
      "  result = np.asarray(self, dtype=dtype)\n",
      "\t-0.8886\t = Validation score   (-root_mean_squared_error)\n",
      "\t242.54s\t = Training   runtime\n",
      "\t0.62s\t = Validation runtime\n",
      "Fitting model: NeuralNetTorch ...\n",
      "/usr/local/lib/python3.8/dist-packages/pandas/core/arrays/base.py:513: RuntimeWarning: invalid value encountered in cast\n",
      "  result = np.asarray(self, dtype=dtype)\n",
      "/usr/local/lib/python3.8/dist-packages/pandas/core/arrays/base.py:513: RuntimeWarning: invalid value encountered in cast\n",
      "  result = np.asarray(self, dtype=dtype)\n",
      "<__array_function__ internals>:200: RuntimeWarning: invalid value encountered in cast\n",
      "/usr/local/lib/python3.8/dist-packages/pandas/core/arrays/base.py:513: RuntimeWarning: invalid value encountered in cast\n",
      "  result = np.asarray(self, dtype=dtype)\n",
      "/usr/local/lib/python3.8/dist-packages/pandas/core/arrays/base.py:513: RuntimeWarning: invalid value encountered in cast\n",
      "  result = np.asarray(self, dtype=dtype)\n",
      "/usr/local/lib/python3.8/dist-packages/pandas/core/arrays/base.py:513: RuntimeWarning: invalid value encountered in cast\n",
      "  result = np.asarray(self, dtype=dtype)\n",
      "/usr/local/lib/python3.8/dist-packages/pandas/core/arrays/base.py:513: RuntimeWarning: invalid value encountered in cast\n",
      "  result = np.asarray(self, dtype=dtype)\n",
      "TabularNeuralNetTorchModel not yet able to use more than 1 GPU. 'num_gpus' is set to >1, but we will be using only 1 GPU.\n",
      "/usr/local/lib/python3.8/dist-packages/pandas/core/arrays/base.py:513: RuntimeWarning: invalid value encountered in cast\n",
      "  result = np.asarray(self, dtype=dtype)\n",
      "/usr/local/lib/python3.8/dist-packages/pandas/core/arrays/base.py:513: RuntimeWarning: invalid value encountered in cast\n",
      "  result = np.asarray(self, dtype=dtype)\n",
      "\t-1.0734\t = Validation score   (-root_mean_squared_error)\n",
      "\t1230.77s\t = Training   runtime\n",
      "\t0.25s\t = Validation runtime\n",
      "Fitting model: VowpalWabbit ...\n",
      "\t-1.5241\t = Validation score   (-root_mean_squared_error)\n",
      "\t291.25s\t = Training   runtime\n",
      "\t0.74s\t = Validation runtime\n",
      "Fitting model: MultiModalPredictor ...\n",
      "INFO:lightning_fabric.utilities.seed:Global seed set to 0\n",
      "loading configuration file config.json from cache at /root/.cache/huggingface/hub/models--google--electra-base-discriminator/snapshots/1b48ef100dac4676d84125a8a7b7ab7c51e00386/config.json\n",
      "Model config ElectraConfig {\n",
      "  \"_name_or_path\": \"google/electra-base-discriminator\",\n",
      "  \"architectures\": [\n",
      "    \"ElectraForPreTraining\"\n",
      "  ],\n",
      "  \"attention_probs_dropout_prob\": 0.1,\n",
      "  \"classifier_dropout\": null,\n",
      "  \"embedding_size\": 768,\n",
      "  \"hidden_act\": \"gelu\",\n",
      "  \"hidden_dropout_prob\": 0.1,\n",
      "  \"hidden_size\": 768,\n",
      "  \"initializer_range\": 0.02,\n",
      "  \"intermediate_size\": 3072,\n",
      "  \"layer_norm_eps\": 1e-12,\n",
      "  \"max_position_embeddings\": 512,\n",
      "  \"model_type\": \"electra\",\n",
      "  \"num_attention_heads\": 12,\n",
      "  \"num_hidden_layers\": 12,\n",
      "  \"pad_token_id\": 0,\n",
      "  \"position_embedding_type\": \"absolute\",\n",
      "  \"summary_activation\": \"gelu\",\n",
      "  \"summary_last_dropout\": 0.1,\n",
      "  \"summary_type\": \"first\",\n",
      "  \"summary_use_proj\": true,\n",
      "  \"transformers_version\": \"4.26.1\",\n",
      "  \"type_vocab_size\": 2,\n",
      "  \"use_cache\": true,\n",
      "  \"vocab_size\": 30522\n",
      "}\n",
      "\n",
      "loading configuration file config.json from cache at /root/.cache/huggingface/hub/models--google--electra-base-discriminator/snapshots/1b48ef100dac4676d84125a8a7b7ab7c51e00386/config.json\n",
      "Model config ElectraConfig {\n",
      "  \"_name_or_path\": \"google/electra-base-discriminator\",\n",
      "  \"architectures\": [\n",
      "    \"ElectraForPreTraining\"\n",
      "  ],\n",
      "  \"attention_probs_dropout_prob\": 0.1,\n",
      "  \"classifier_dropout\": null,\n",
      "  \"embedding_size\": 768,\n",
      "  \"hidden_act\": \"gelu\",\n",
      "  \"hidden_dropout_prob\": 0.1,\n",
      "  \"hidden_size\": 768,\n",
      "  \"initializer_range\": 0.02,\n",
      "  \"intermediate_size\": 3072,\n",
      "  \"layer_norm_eps\": 1e-12,\n",
      "  \"max_position_embeddings\": 512,\n",
      "  \"model_type\": \"electra\",\n",
      "  \"num_attention_heads\": 12,\n",
      "  \"num_hidden_layers\": 12,\n",
      "  \"pad_token_id\": 0,\n",
      "  \"position_embedding_type\": \"absolute\",\n",
      "  \"summary_activation\": \"gelu\",\n",
      "  \"summary_last_dropout\": 0.1,\n",
      "  \"summary_type\": \"first\",\n",
      "  \"summary_use_proj\": true,\n",
      "  \"transformers_version\": \"4.26.1\",\n",
      "  \"type_vocab_size\": 2,\n",
      "  \"use_cache\": true,\n",
      "  \"vocab_size\": 30522\n",
      "}\n",
      "\n",
      "loading weights file pytorch_model.bin from cache at /root/.cache/huggingface/hub/models--google--electra-base-discriminator/snapshots/1b48ef100dac4676d84125a8a7b7ab7c51e00386/pytorch_model.bin\n",
      "Some weights of the model checkpoint at google/electra-base-discriminator were not used when initializing ElectraModel: ['discriminator_predictions.dense_prediction.weight', 'discriminator_predictions.dense.bias', 'discriminator_predictions.dense.weight', 'discriminator_predictions.dense_prediction.bias']\n",
      "- This IS expected if you are initializing ElectraModel from the checkpoint of a model trained on another task or with another architecture (e.g. initializing a BertForSequenceClassification model from a BertForPreTraining model).\n",
      "- This IS NOT expected if you are initializing ElectraModel from the checkpoint of a model that you expect to be exactly identical (initializing a BertForSequenceClassification model from a BertForSequenceClassification model).\n",
      "All the weights of ElectraModel were initialized from the model checkpoint at google/electra-base-discriminator.\n",
      "If your task is similar to the task the model of the checkpoint was trained on, you can already use ElectraModel for predictions without further training.\n",
      "loading configuration file config.json from cache at /root/.cache/huggingface/hub/models--google--electra-base-discriminator/snapshots/1b48ef100dac4676d84125a8a7b7ab7c51e00386/config.json\n",
      "Model config ElectraConfig {\n",
      "  \"_name_or_path\": \"google/electra-base-discriminator\",\n",
      "  \"architectures\": [\n",
      "    \"ElectraForPreTraining\"\n",
      "  ],\n",
      "  \"attention_probs_dropout_prob\": 0.1,\n",
      "  \"classifier_dropout\": null,\n",
      "  \"embedding_size\": 768,\n",
      "  \"hidden_act\": \"gelu\",\n",
      "  \"hidden_dropout_prob\": 0.1,\n",
      "  \"hidden_size\": 768,\n",
      "  \"initializer_range\": 0.02,\n",
      "  \"intermediate_size\": 3072,\n",
      "  \"layer_norm_eps\": 1e-12,\n",
      "  \"max_position_embeddings\": 512,\n",
      "  \"model_type\": \"electra\",\n",
      "  \"num_attention_heads\": 12,\n",
      "  \"num_hidden_layers\": 12,\n",
      "  \"pad_token_id\": 0,\n",
      "  \"position_embedding_type\": \"absolute\",\n",
      "  \"summary_activation\": \"gelu\",\n",
      "  \"summary_last_dropout\": 0.1,\n",
      "  \"summary_type\": \"first\",\n",
      "  \"summary_use_proj\": true,\n",
      "  \"transformers_version\": \"4.26.1\",\n",
      "  \"type_vocab_size\": 2,\n",
      "  \"use_cache\": true,\n",
      "  \"vocab_size\": 30522\n",
      "}\n",
      "\n",
      "loading file vocab.txt from cache at /root/.cache/huggingface/hub/models--google--electra-base-discriminator/snapshots/1b48ef100dac4676d84125a8a7b7ab7c51e00386/vocab.txt\n",
      "loading file tokenizer.json from cache at /root/.cache/huggingface/hub/models--google--electra-base-discriminator/snapshots/1b48ef100dac4676d84125a8a7b7ab7c51e00386/tokenizer.json\n",
      "loading file added_tokens.json from cache at None\n",
      "loading file special_tokens_map.json from cache at None\n",
      "loading file tokenizer_config.json from cache at /root/.cache/huggingface/hub/models--google--electra-base-discriminator/snapshots/1b48ef100dac4676d84125a8a7b7ab7c51e00386/tokenizer_config.json\n",
      "loading configuration file config.json from cache at /root/.cache/huggingface/hub/models--google--electra-base-discriminator/snapshots/1b48ef100dac4676d84125a8a7b7ab7c51e00386/config.json\n",
      "Model config ElectraConfig {\n",
      "  \"_name_or_path\": \"google/electra-base-discriminator\",\n",
      "  \"architectures\": [\n",
      "    \"ElectraForPreTraining\"\n",
      "  ],\n",
      "  \"attention_probs_dropout_prob\": 0.1,\n",
      "  \"classifier_dropout\": null,\n",
      "  \"embedding_size\": 768,\n",
      "  \"hidden_act\": \"gelu\",\n",
      "  \"hidden_dropout_prob\": 0.1,\n",
      "  \"hidden_size\": 768,\n",
      "  \"initializer_range\": 0.02,\n",
      "  \"intermediate_size\": 3072,\n",
      "  \"layer_norm_eps\": 1e-12,\n",
      "  \"max_position_embeddings\": 512,\n",
      "  \"model_type\": \"electra\",\n",
      "  \"num_attention_heads\": 12,\n",
      "  \"num_hidden_layers\": 12,\n",
      "  \"pad_token_id\": 0,\n",
      "  \"position_embedding_type\": \"absolute\",\n",
      "  \"summary_activation\": \"gelu\",\n",
      "  \"summary_last_dropout\": 0.1,\n",
      "  \"summary_type\": \"first\",\n",
      "  \"summary_use_proj\": true,\n",
      "  \"transformers_version\": \"4.26.1\",\n",
      "  \"type_vocab_size\": 2,\n",
      "  \"use_cache\": true,\n",
      "  \"vocab_size\": 30522\n",
      "}\n",
      "\n",
      "loading configuration file config.json from cache at /root/.cache/huggingface/hub/models--google--electra-base-discriminator/snapshots/1b48ef100dac4676d84125a8a7b7ab7c51e00386/config.json\n",
      "Model config ElectraConfig {\n",
      "  \"_name_or_path\": \"google/electra-base-discriminator\",\n",
      "  \"architectures\": [\n",
      "    \"ElectraForPreTraining\"\n",
      "  ],\n",
      "  \"attention_probs_dropout_prob\": 0.1,\n",
      "  \"classifier_dropout\": null,\n",
      "  \"embedding_size\": 768,\n",
      "  \"hidden_act\": \"gelu\",\n",
      "  \"hidden_dropout_prob\": 0.1,\n",
      "  \"hidden_size\": 768,\n",
      "  \"initializer_range\": 0.02,\n",
      "  \"intermediate_size\": 3072,\n",
      "  \"layer_norm_eps\": 1e-12,\n",
      "  \"max_position_embeddings\": 512,\n",
      "  \"model_type\": \"electra\",\n",
      "  \"num_attention_heads\": 12,\n",
      "  \"num_hidden_layers\": 12,\n",
      "  \"pad_token_id\": 0,\n",
      "  \"position_embedding_type\": \"absolute\",\n",
      "  \"summary_activation\": \"gelu\",\n",
      "  \"summary_last_dropout\": 0.1,\n",
      "  \"summary_type\": \"first\",\n",
      "  \"summary_use_proj\": true,\n",
      "  \"transformers_version\": \"4.26.1\",\n",
      "  \"type_vocab_size\": 2,\n",
      "  \"use_cache\": true,\n",
      "  \"vocab_size\": 30522\n",
      "}\n",
      "\n",
      "loading file vocab.txt from cache at /root/.cache/huggingface/hub/models--google--electra-base-discriminator/snapshots/1b48ef100dac4676d84125a8a7b7ab7c51e00386/vocab.txt\n",
      "loading file tokenizer.json from cache at /root/.cache/huggingface/hub/models--google--electra-base-discriminator/snapshots/1b48ef100dac4676d84125a8a7b7ab7c51e00386/tokenizer.json\n",
      "loading file added_tokens.json from cache at None\n",
      "loading file special_tokens_map.json from cache at None\n",
      "loading file tokenizer_config.json from cache at /root/.cache/huggingface/hub/models--google--electra-base-discriminator/snapshots/1b48ef100dac4676d84125a8a7b7ab7c51e00386/tokenizer_config.json\n",
      "loading configuration file config.json from cache at /root/.cache/huggingface/hub/models--google--electra-base-discriminator/snapshots/1b48ef100dac4676d84125a8a7b7ab7c51e00386/config.json\n",
      "Model config ElectraConfig {\n",
      "  \"_name_or_path\": \"google/electra-base-discriminator\",\n",
      "  \"architectures\": [\n",
      "    \"ElectraForPreTraining\"\n",
      "  ],\n",
      "  \"attention_probs_dropout_prob\": 0.1,\n",
      "  \"classifier_dropout\": null,\n",
      "  \"embedding_size\": 768,\n",
      "  \"hidden_act\": \"gelu\",\n",
      "  \"hidden_dropout_prob\": 0.1,\n",
      "  \"hidden_size\": 768,\n",
      "  \"initializer_range\": 0.02,\n",
      "  \"intermediate_size\": 3072,\n",
      "  \"layer_norm_eps\": 1e-12,\n",
      "  \"max_position_embeddings\": 512,\n",
      "  \"model_type\": \"electra\",\n",
      "  \"num_attention_heads\": 12,\n",
      "  \"num_hidden_layers\": 12,\n",
      "  \"pad_token_id\": 0,\n",
      "  \"position_embedding_type\": \"absolute\",\n",
      "  \"summary_activation\": \"gelu\",\n",
      "  \"summary_last_dropout\": 0.1,\n",
      "  \"summary_type\": \"first\",\n",
      "  \"summary_use_proj\": true,\n",
      "  \"transformers_version\": \"4.26.1\",\n",
      "  \"type_vocab_size\": 2,\n",
      "  \"use_cache\": true,\n",
      "  \"vocab_size\": 30522\n",
      "}\n",
      "\n",
      "/usr/local/lib/python3.8/dist-packages/autogluon/multimodal/utils/environment.py:58: UserWarning: Interactive environment is detected. Currently, MultiModalPredictor does not support multi-gpu training under an interactive environment due to the limitation of ddp / ddp_spawn strategies in PT Lightning. Thus, we switch to single gpu training. For multi-gpu training, you need to execute MultiModalPredictor in a script.\n",
      "  warnings.warn(\n",
      "Configuration saved in /MMChallenge/SMP/HyFea-main/AutogluonModels/ag-20230527_132929/models/MultiModalPredictor/automm_model/hf_text/config.json\n",
      "tokenizer config file saved in /MMChallenge/SMP/HyFea-main/AutogluonModels/ag-20230527_132929/models/MultiModalPredictor/automm_model/hf_text/tokenizer_config.json\n",
      "Special tokens file saved in /MMChallenge/SMP/HyFea-main/AutogluonModels/ag-20230527_132929/models/MultiModalPredictor/automm_model/hf_text/special_tokens_map.json\n",
      "INFO:pytorch_lightning.utilities.rank_zero:Using 16bit None Automatic Mixed Precision (AMP)\n",
      "INFO:pytorch_lightning.utilities.rank_zero:GPU available: True (cuda), used: True\n",
      "INFO:pytorch_lightning.utilities.rank_zero:TPU available: False, using: 0 TPU cores\n",
      "INFO:pytorch_lightning.utilities.rank_zero:IPU available: False, using: 0 IPUs\n",
      "INFO:pytorch_lightning.utilities.rank_zero:HPU available: False, using: 0 HPUs\n",
      "INFO:pytorch_lightning.utilities.rank_zero:You are using a CUDA device ('NVIDIA GeForce RTX 3090') that has Tensor Cores. To properly utilize them, you should set `torch.set_float32_matmul_precision('medium' | 'high')` which will trade-off precision for performance. For more details, read https://pytorch.org/docs/stable/generated/torch.set_float32_matmul_precision.html#torch.set_float32_matmul_precision\n",
      "INFO:pytorch_lightning.accelerators.cuda:LOCAL_RANK: 0 - CUDA_VISIBLE_DEVICES: [0,1,2,3,4,5,6,7]\n",
      "INFO:pytorch_lightning.callbacks.model_summary:\n",
      "  | Name              | Type                | Params\n",
      "----------------------------------------------------------\n",
      "0 | model             | MultimodalFusionMLP | 198 M \n",
      "1 | validation_metric | MeanSquaredError    | 0     \n",
      "2 | loss_func         | MSELoss             | 0     \n",
      "----------------------------------------------------------\n",
      "198 M     Trainable params\n",
      "0         Non-trainable params\n",
      "198 M     Total params\n",
      "396.030   Total estimated model params size (MB)\n",
      "INFO:pytorch_lightning.utilities.rank_zero:Epoch 0, global step 1181: 'val_root_mean_squared_error' reached 0.62449 (best 0.62449), saving model to '/MMChallenge/SMP/HyFea-main/AutogluonModels/ag-20230527_132929/models/MultiModalPredictor/automm_model/epoch=0-step=1181.ckpt' as top 3\n",
      "INFO:pytorch_lightning.utilities.rank_zero:Epoch 0, global step 2364: 'val_root_mean_squared_error' reached 0.51612 (best 0.51612), saving model to '/MMChallenge/SMP/HyFea-main/AutogluonModels/ag-20230527_132929/models/MultiModalPredictor/automm_model/epoch=0-step=2364.ckpt' as top 3\n",
      "INFO:pytorch_lightning.utilities.rank_zero:Epoch 1, global step 3545: 'val_root_mean_squared_error' reached 0.50108 (best 0.50108), saving model to '/MMChallenge/SMP/HyFea-main/AutogluonModels/ag-20230527_132929/models/MultiModalPredictor/automm_model/epoch=1-step=3545.ckpt' as top 3\n",
      "INFO:pytorch_lightning.utilities.rank_zero:Epoch 1, global step 4728: 'val_root_mean_squared_error' reached 0.43711 (best 0.43711), saving model to '/MMChallenge/SMP/HyFea-main/AutogluonModels/ag-20230527_132929/models/MultiModalPredictor/automm_model/epoch=1-step=4728.ckpt' as top 3\n",
      "INFO:pytorch_lightning.utilities.rank_zero:Epoch 2, global step 5909: 'val_root_mean_squared_error' reached 0.41220 (best 0.41220), saving model to '/MMChallenge/SMP/HyFea-main/AutogluonModels/ag-20230527_132929/models/MultiModalPredictor/automm_model/epoch=2-step=5909.ckpt' as top 3\n",
      "INFO:pytorch_lightning.utilities.rank_zero:Epoch 2, global step 7092: 'val_root_mean_squared_error' reached 0.43156 (best 0.41220), saving model to '/MMChallenge/SMP/HyFea-main/AutogluonModels/ag-20230527_132929/models/MultiModalPredictor/automm_model/epoch=2-step=7092.ckpt' as top 3\n",
      "INFO:pytorch_lightning.utilities.rank_zero:Epoch 3, global step 8273: 'val_root_mean_squared_error' reached 0.40168 (best 0.40168), saving model to '/MMChallenge/SMP/HyFea-main/AutogluonModels/ag-20230527_132929/models/MultiModalPredictor/automm_model/epoch=3-step=8273.ckpt' as top 3\n",
      "INFO:pytorch_lightning.utilities.rank_zero:Epoch 3, global step 9456: 'val_root_mean_squared_error' reached 0.40917 (best 0.40168), saving model to '/MMChallenge/SMP/HyFea-main/AutogluonModels/ag-20230527_132929/models/MultiModalPredictor/automm_model/epoch=3-step=9456.ckpt' as top 3\n",
      "INFO:pytorch_lightning.utilities.rank_zero:Epoch 4, global step 10637: 'val_root_mean_squared_error' reached 0.40252 (best 0.40168), saving model to '/MMChallenge/SMP/HyFea-main/AutogluonModels/ag-20230527_132929/models/MultiModalPredictor/automm_model/epoch=4-step=10637.ckpt' as top 3\n",
      "INFO:pytorch_lightning.utilities.rank_zero:Epoch 4, global step 11820: 'val_root_mean_squared_error' reached 0.39805 (best 0.39805), saving model to '/MMChallenge/SMP/HyFea-main/AutogluonModels/ag-20230527_132929/models/MultiModalPredictor/automm_model/epoch=4-step=11820.ckpt' as top 3\n",
      "INFO:pytorch_lightning.utilities.rank_zero:Epoch 5, global step 13001: 'val_root_mean_squared_error' was not in top 3\n",
      "INFO:pytorch_lightning.utilities.rank_zero:Epoch 5, global step 14184: 'val_root_mean_squared_error' reached 0.38966 (best 0.38966), saving model to '/MMChallenge/SMP/HyFea-main/AutogluonModels/ag-20230527_132929/models/MultiModalPredictor/automm_model/epoch=5-step=14184.ckpt' as top 3\n",
      "INFO:pytorch_lightning.utilities.rank_zero:Epoch 6, global step 15365: 'val_root_mean_squared_error' reached 0.38200 (best 0.38200), saving model to '/MMChallenge/SMP/HyFea-main/AutogluonModels/ag-20230527_132929/models/MultiModalPredictor/automm_model/epoch=6-step=15365.ckpt' as top 3\n",
      "INFO:pytorch_lightning.utilities.rank_zero:Epoch 6, global step 16548: 'val_root_mean_squared_error' reached 0.37860 (best 0.37860), saving model to '/MMChallenge/SMP/HyFea-main/AutogluonModels/ag-20230527_132929/models/MultiModalPredictor/automm_model/epoch=6-step=16548.ckpt' as top 3\n",
      "INFO:pytorch_lightning.utilities.rank_zero:Epoch 7, global step 17729: 'val_root_mean_squared_error' reached 0.37550 (best 0.37550), saving model to '/MMChallenge/SMP/HyFea-main/AutogluonModels/ag-20230527_132929/models/MultiModalPredictor/automm_model/epoch=7-step=17729.ckpt' as top 3\n",
      "INFO:pytorch_lightning.utilities.rank_zero:Epoch 7, global step 18912: 'val_root_mean_squared_error' reached 0.37213 (best 0.37213), saving model to '/MMChallenge/SMP/HyFea-main/AutogluonModels/ag-20230527_132929/models/MultiModalPredictor/automm_model/epoch=7-step=18912.ckpt' as top 3\n",
      "INFO:pytorch_lightning.utilities.rank_zero:Epoch 8, global step 20093: 'val_root_mean_squared_error' reached 0.37161 (best 0.37161), saving model to '/MMChallenge/SMP/HyFea-main/AutogluonModels/ag-20230527_132929/models/MultiModalPredictor/automm_model/epoch=8-step=20093.ckpt' as top 3\n",
      "INFO:pytorch_lightning.utilities.rank_zero:Epoch 8, global step 21276: 'val_root_mean_squared_error' reached 0.37449 (best 0.37161), saving model to '/MMChallenge/SMP/HyFea-main/AutogluonModels/ag-20230527_132929/models/MultiModalPredictor/automm_model/epoch=8-step=21276.ckpt' as top 3\n",
      "INFO:pytorch_lightning.utilities.rank_zero:Epoch 9, global step 22457: 'val_root_mean_squared_error' reached 0.37337 (best 0.37161), saving model to '/MMChallenge/SMP/HyFea-main/AutogluonModels/ag-20230527_132929/models/MultiModalPredictor/automm_model/epoch=9-step=22457.ckpt' as top 3\n",
      "INFO:pytorch_lightning.utilities.rank_zero:Epoch 9, global step 23640: 'val_root_mean_squared_error' was not in top 3\n",
      "INFO:pytorch_lightning.utilities.rank_zero:`Trainer.fit` stopped: `max_epochs=10` reached.\n",
      "INFO:pytorch_lightning.utilities.rank_zero:You are using a CUDA device ('NVIDIA GeForce RTX 3090') that has Tensor Cores. To properly utilize them, you should set `torch.set_float32_matmul_precision('medium' | 'high')` which will trade-off precision for performance. For more details, read https://pytorch.org/docs/stable/generated/torch.set_float32_matmul_precision.html#torch.set_float32_matmul_precision\n",
      "INFO:pytorch_lightning.utilities.rank_zero:You are using a CUDA device ('NVIDIA GeForce RTX 3090') that has Tensor Cores. To properly utilize them, you should set `torch.set_float32_matmul_precision('medium' | 'high')` which will trade-off precision for performance. For more details, read https://pytorch.org/docs/stable/generated/torch.set_float32_matmul_precision.html#torch.set_float32_matmul_precision\n",
      "INFO:pytorch_lightning.utilities.rank_zero:You are using a CUDA device ('NVIDIA GeForce RTX 3090') that has Tensor Cores. To properly utilize them, you should set `torch.set_float32_matmul_precision('medium' | 'high')` which will trade-off precision for performance. For more details, read https://pytorch.org/docs/stable/generated/torch.set_float32_matmul_precision.html#torch.set_float32_matmul_precision\n",
      "INFO:pytorch_lightning.utilities.rank_zero:You are using a CUDA device ('NVIDIA GeForce RTX 3090') that has Tensor Cores. To properly utilize them, you should set `torch.set_float32_matmul_precision('medium' | 'high')` which will trade-off precision for performance. For more details, read https://pytorch.org/docs/stable/generated/torch.set_float32_matmul_precision.html#torch.set_float32_matmul_precision\n",
      "Configuration saved in AutogluonModels/ag-20230527_132929/models/MultiModalPredictor/automm_model/hf_text/config.json\n",
      "tokenizer config file saved in AutogluonModels/ag-20230527_132929/models/MultiModalPredictor/automm_model/hf_text/tokenizer_config.json\n",
      "Special tokens file saved in AutogluonModels/ag-20230527_132929/models/MultiModalPredictor/automm_model/hf_text/special_tokens_map.json\n",
      "\t-0.9185\t = Validation score   (-root_mean_squared_error)\n",
      "\t66663.49s\t = Training   runtime\n",
      "\t25.7s\t = Validation runtime\n",
      "Fitting model: WeightedEnsemble_L2 ...\n",
      "\t-0.8018\t = Validation score   (-root_mean_squared_error)\n",
      "\t0.22s\t = Training   runtime\n",
      "\t0.0s\t = Validation runtime\n",
      "AutoGluon training complete, total runtime = 69836.36s ... Best model: \"WeightedEnsemble_L2\"\n",
      "TabularPredictor saved. To load, use: predictor = TabularPredictor.load(\"AutogluonModels/ag-20230527_132929/\")\n"
     ]
    }
   ],
   "source": [
    "from autogluon.tabular import TabularPredictor\n",
    "excluded_model_types = ['GBM']\n",
    "predictor = TabularPredictor(label=label).fit(\n",
    "    train_data=train_all_data,\n",
    "    hyperparameters=hyperparameters,\n",
    "    excluded_model_types=excluded_model_types,\n",
    "    feature_metadata=feature_metadata,\n",
    "    # num_bag_folds=5, \n",
    "    ag_args_fit={'num_gpus': 4}\n",
    "    # hyperparameters = {'NN_TORCH': {'num_epochs': 5}, 'GBM': {'num_boost_round': 20}},\n",
    ")"
   ]
  },
  {
   "cell_type": "code",
   "execution_count": 41,
   "id": "e03b1b72-0632-4af6-8552-23c36642b9df",
   "metadata": {
    "tags": []
   },
   "outputs": [
    {
     "data": {
      "text/plain": [
       "['CatBoost',\n",
       " 'XGBoost',\n",
       " 'NeuralNetTorch',\n",
       " 'VowpalWabbit',\n",
       " 'MultiModalPredictor',\n",
       " 'WeightedEnsemble_L2']"
      ]
     },
     "execution_count": 41,
     "metadata": {},
     "output_type": "execute_result"
    }
   ],
   "source": [
    "all_models = predictor.get_model_names()\n",
    "all_models"
   ]
  },
  {
   "cell_type": "code",
   "execution_count": 42,
   "id": "6a9f4ef6-f4ea-4f71-9e92-eca450116cd3",
   "metadata": {
    "tags": []
   },
   "outputs": [
    {
     "name": "stdout",
     "output_type": "stream",
     "text": [
      "Prediction from CatBoost model: 9.186755\n"
     ]
    }
   ],
   "source": [
    "i = 0  # index of model to use\n",
    "model_to_use = predictor.get_model_names()[i]\n",
    "model_pred0 = predictor.predict(submit_all_data.drop(columns=[label]), model=model_to_use)\n",
    "print(\"Prediction from %s model: %s\" % (model_to_use, model_pred0.iloc[0]))"
   ]
  },
  {
   "cell_type": "code",
   "execution_count": 43,
   "id": "ecffc509-014a-468b-a3e5-737340f5b0bf",
   "metadata": {
    "tags": []
   },
   "outputs": [
    {
     "name": "stderr",
     "output_type": "stream",
     "text": [
      "/usr/local/lib/python3.8/dist-packages/pandas/core/arrays/base.py:513: RuntimeWarning: invalid value encountered in cast\n",
      "  result = np.asarray(self, dtype=dtype)\n"
     ]
    },
    {
     "name": "stdout",
     "output_type": "stream",
     "text": [
      "Prediction from XGBoost model: 9.790573\n"
     ]
    }
   ],
   "source": [
    "i = 1  # index of model to use\n",
    "model_to_use = predictor.get_model_names()[i]\n",
    "model_pred1 = predictor.predict(submit_all_data.drop(columns=[label]), model=model_to_use)\n",
    "print(\"Prediction from %s model: %s\" % (model_to_use, model_pred1.iloc[0]))"
   ]
  },
  {
   "cell_type": "code",
   "execution_count": 44,
   "id": "699074cf-c23f-4f32-9df2-2da44741ca8b",
   "metadata": {
    "tags": []
   },
   "outputs": [
    {
     "name": "stderr",
     "output_type": "stream",
     "text": [
      "/usr/local/lib/python3.8/dist-packages/pandas/core/arrays/base.py:513: RuntimeWarning: invalid value encountered in cast\n",
      "  result = np.asarray(self, dtype=dtype)\n",
      "/usr/local/lib/python3.8/dist-packages/pandas/core/arrays/base.py:513: RuntimeWarning: invalid value encountered in cast\n",
      "  result = np.asarray(self, dtype=dtype)\n"
     ]
    },
    {
     "name": "stdout",
     "output_type": "stream",
     "text": [
      "Prediction from NeuralNetTorch model: 7.6579366\n"
     ]
    }
   ],
   "source": [
    "i = 2  # index of model to use\n",
    "model_to_use = predictor.get_model_names()[i]\n",
    "model_pred2 = predictor.predict(submit_all_data.drop(columns=[label]), model=model_to_use)\n",
    "print(\"Prediction from %s model: %s\" % (model_to_use, model_pred2.iloc[0]))"
   ]
  },
  {
   "cell_type": "code",
   "execution_count": 45,
   "id": "b8a8321b-298b-41bd-bc62-9583f2bc9b04",
   "metadata": {
    "tags": []
   },
   "outputs": [
    {
     "name": "stdout",
     "output_type": "stream",
     "text": [
      "Prediction from VowpalWabbit model: 9.459954\n"
     ]
    }
   ],
   "source": [
    "i = 3  # index of model to use\n",
    "model_to_use = predictor.get_model_names()[i]\n",
    "model_pred3 = predictor.predict(submit_all_data.drop(columns=[label]), model=model_to_use)\n",
    "print(\"Prediction from %s model: %s\" % (model_to_use, model_pred3.iloc[0]))"
   ]
  },
  {
   "cell_type": "code",
   "execution_count": 46,
   "id": "e8067b90-8432-44f0-9420-f07ac8231e4b",
   "metadata": {
    "tags": []
   },
   "outputs": [
    {
     "name": "stderr",
     "output_type": "stream",
     "text": [
      "loading file vocab.txt\n",
      "loading file tokenizer.json\n",
      "loading file added_tokens.json\n",
      "loading file special_tokens_map.json\n",
      "loading file tokenizer_config.json\n",
      "loading configuration file /MMChallenge/SMP/HyFea-main/AutogluonModels/ag-20230527_132929/models/MultiModalPredictor/automm_model/hf_text/config.json\n",
      "Model config ElectraConfig {\n",
      "  \"_name_or_path\": \"/MMChallenge/SMP/HyFea-main/AutogluonModels/ag-20230527_132929/models/MultiModalPredictor/automm_model/hf_text\",\n",
      "  \"architectures\": [\n",
      "    \"ElectraForPreTraining\"\n",
      "  ],\n",
      "  \"attention_probs_dropout_prob\": 0.1,\n",
      "  \"classifier_dropout\": null,\n",
      "  \"embedding_size\": 768,\n",
      "  \"hidden_act\": \"gelu\",\n",
      "  \"hidden_dropout_prob\": 0.1,\n",
      "  \"hidden_size\": 768,\n",
      "  \"initializer_range\": 0.02,\n",
      "  \"intermediate_size\": 3072,\n",
      "  \"layer_norm_eps\": 1e-12,\n",
      "  \"max_position_embeddings\": 512,\n",
      "  \"model_type\": \"electra\",\n",
      "  \"num_attention_heads\": 12,\n",
      "  \"num_hidden_layers\": 12,\n",
      "  \"pad_token_id\": 0,\n",
      "  \"position_embedding_type\": \"absolute\",\n",
      "  \"summary_activation\": \"gelu\",\n",
      "  \"summary_last_dropout\": 0.1,\n",
      "  \"summary_type\": \"first\",\n",
      "  \"summary_use_proj\": true,\n",
      "  \"transformers_version\": \"4.26.1\",\n",
      "  \"type_vocab_size\": 2,\n",
      "  \"use_cache\": true,\n",
      "  \"vocab_size\": 30522\n",
      "}\n",
      "\n",
      "loading file vocab.txt\n",
      "loading file tokenizer.json\n",
      "loading file added_tokens.json\n",
      "loading file special_tokens_map.json\n",
      "loading file tokenizer_config.json\n",
      "Load pretrained checkpoint: /MMChallenge/SMP/HyFea-main/AutogluonModels/ag-20230527_132929/models/MultiModalPredictor/automm_model/model.ckpt\n",
      "INFO:pytorch_lightning.utilities.rank_zero:You are using a CUDA device ('NVIDIA GeForce RTX 3090') that has Tensor Cores. To properly utilize them, you should set `torch.set_float32_matmul_precision('medium' | 'high')` which will trade-off precision for performance. For more details, read https://pytorch.org/docs/stable/generated/torch.set_float32_matmul_precision.html#torch.set_float32_matmul_precision\n",
      "Token indices sequence length is longer than the specified maximum sequence length for this model (618 > 512). Running this sequence through the model will result in indexing errors\n"
     ]
    },
    {
     "name": "stdout",
     "output_type": "stream",
     "text": [
      "Prediction from MultiModalPredictor model: 9.7533455\n"
     ]
    }
   ],
   "source": [
    "i = 4  # index of model to use\n",
    "model_to_use = predictor.get_model_names()[i]\n",
    "model_pred4 = predictor.predict(submit_all_data.drop(columns=[label]), model=model_to_use)\n",
    "print(\"Prediction from %s model: %s\" % (model_to_use, model_pred4.iloc[0]))"
   ]
  },
  {
   "cell_type": "code",
   "execution_count": 48,
   "id": "1e3919c1-db19-4a2f-b76d-9485254a172e",
   "metadata": {
    "tags": []
   },
   "outputs": [
    {
     "name": "stderr",
     "output_type": "stream",
     "text": [
      "loading file vocab.txt\n",
      "loading file tokenizer.json\n",
      "loading file added_tokens.json\n",
      "loading file special_tokens_map.json\n",
      "loading file tokenizer_config.json\n",
      "loading configuration file /MMChallenge/SMP/HyFea-main/AutogluonModels/ag-20230527_132929/models/MultiModalPredictor/automm_model/hf_text/config.json\n",
      "Model config ElectraConfig {\n",
      "  \"_name_or_path\": \"/MMChallenge/SMP/HyFea-main/AutogluonModels/ag-20230527_132929/models/MultiModalPredictor/automm_model/hf_text\",\n",
      "  \"architectures\": [\n",
      "    \"ElectraForPreTraining\"\n",
      "  ],\n",
      "  \"attention_probs_dropout_prob\": 0.1,\n",
      "  \"classifier_dropout\": null,\n",
      "  \"embedding_size\": 768,\n",
      "  \"hidden_act\": \"gelu\",\n",
      "  \"hidden_dropout_prob\": 0.1,\n",
      "  \"hidden_size\": 768,\n",
      "  \"initializer_range\": 0.02,\n",
      "  \"intermediate_size\": 3072,\n",
      "  \"layer_norm_eps\": 1e-12,\n",
      "  \"max_position_embeddings\": 512,\n",
      "  \"model_type\": \"electra\",\n",
      "  \"num_attention_heads\": 12,\n",
      "  \"num_hidden_layers\": 12,\n",
      "  \"pad_token_id\": 0,\n",
      "  \"position_embedding_type\": \"absolute\",\n",
      "  \"summary_activation\": \"gelu\",\n",
      "  \"summary_last_dropout\": 0.1,\n",
      "  \"summary_type\": \"first\",\n",
      "  \"summary_use_proj\": true,\n",
      "  \"transformers_version\": \"4.26.1\",\n",
      "  \"type_vocab_size\": 2,\n",
      "  \"use_cache\": true,\n",
      "  \"vocab_size\": 30522\n",
      "}\n",
      "\n",
      "loading file vocab.txt\n",
      "loading file tokenizer.json\n",
      "loading file added_tokens.json\n",
      "loading file special_tokens_map.json\n",
      "loading file tokenizer_config.json\n",
      "Load pretrained checkpoint: /MMChallenge/SMP/HyFea-main/AutogluonModels/ag-20230527_132929/models/MultiModalPredictor/automm_model/model.ckpt\n",
      "INFO:pytorch_lightning.utilities.rank_zero:You are using a CUDA device ('NVIDIA GeForce RTX 3090') that has Tensor Cores. To properly utilize them, you should set `torch.set_float32_matmul_precision('medium' | 'high')` which will trade-off precision for performance. For more details, read https://pytorch.org/docs/stable/generated/torch.set_float32_matmul_precision.html#torch.set_float32_matmul_precision\n",
      "Token indices sequence length is longer than the specified maximum sequence length for this model (618 > 512). Running this sequence through the model will result in indexing errors\n",
      "/usr/local/lib/python3.8/dist-packages/pandas/core/arrays/base.py:513: RuntimeWarning: invalid value encountered in cast\n",
      "  result = np.asarray(self, dtype=dtype)\n"
     ]
    },
    {
     "name": "stdout",
     "output_type": "stream",
     "text": [
      "Prediction from WeightedEnsemble_L2 model: 9.533422\n"
     ]
    }
   ],
   "source": [
    "i = 5  # index of model to use\n",
    "model_to_use = predictor.get_model_names()[i]\n",
    "model_pred5 = predictor.predict(submit_all_data.drop(columns=[label]), model=model_to_use)\n",
    "print(\"Prediction from %s model: %s\" % (model_to_use, model_pred5.iloc[0]))"
   ]
  },
  {
   "cell_type": "code",
   "execution_count": 49,
   "id": "1cc83962-eee2-4e55-8d99-cb4fd4c79bd2",
   "metadata": {
    "tags": []
   },
   "outputs": [],
   "source": [
    "model_pred0.to_csv('../data/auto_CAallfea_CAT.csv',header=True, index=None)\n",
    "model_pred1.to_csv('../data/auto_CAallfea_XGB.csv',header=True, index=None)\n",
    "model_pred2.to_csv('../data/auto_CAallfea_NNT.csv',header=True, index=None)\n",
    "model_pred3.to_csv('../data/auto_CAallfea_VW.csv',header=True, index=None)\n",
    "model_pred4.to_csv('../data/auto_CAallfea_MMP.csv',header=True, index=None)\n",
    "model_pred5.to_csv('../data/auto_CAallfea_Ensemble.csv',header=True, index=None)\n",
    "# model_pred0.to_csv('../data/auto_allfea_5models.csv',header=True, index=None)"
   ]
  },
  {
   "cell_type": "code",
   "execution_count": null,
   "id": "20b3e127-39d3-4e7c-821c-cd3921eac81f",
   "metadata": {},
   "outputs": [],
   "source": []
  },
  {
   "cell_type": "code",
   "execution_count": 18,
   "id": "6dfbbf79-ee25-42d7-828b-ffba16b63ec0",
   "metadata": {
    "tags": []
   },
   "outputs": [
    {
     "name": "stderr",
     "output_type": "stream",
     "text": [
      "loading file vocab.txt\n",
      "loading file tokenizer.json\n",
      "loading file added_tokens.json\n",
      "loading file special_tokens_map.json\n",
      "loading file tokenizer_config.json\n",
      "loading configuration file /MMChallenge/SMP/HyFea-main/AutogluonModels/ag-20230526_094844/models/MultiModalPredictor/automm_model/hf_text/config.json\n",
      "Model config ElectraConfig {\n",
      "  \"_name_or_path\": \"/MMChallenge/SMP/HyFea-main/AutogluonModels/ag-20230526_094844/models/MultiModalPredictor/automm_model/hf_text\",\n",
      "  \"architectures\": [\n",
      "    \"ElectraForPreTraining\"\n",
      "  ],\n",
      "  \"attention_probs_dropout_prob\": 0.1,\n",
      "  \"classifier_dropout\": null,\n",
      "  \"embedding_size\": 768,\n",
      "  \"hidden_act\": \"gelu\",\n",
      "  \"hidden_dropout_prob\": 0.1,\n",
      "  \"hidden_size\": 768,\n",
      "  \"initializer_range\": 0.02,\n",
      "  \"intermediate_size\": 3072,\n",
      "  \"layer_norm_eps\": 1e-12,\n",
      "  \"max_position_embeddings\": 512,\n",
      "  \"model_type\": \"electra\",\n",
      "  \"num_attention_heads\": 12,\n",
      "  \"num_hidden_layers\": 12,\n",
      "  \"pad_token_id\": 0,\n",
      "  \"position_embedding_type\": \"absolute\",\n",
      "  \"summary_activation\": \"gelu\",\n",
      "  \"summary_last_dropout\": 0.1,\n",
      "  \"summary_type\": \"first\",\n",
      "  \"summary_use_proj\": true,\n",
      "  \"transformers_version\": \"4.26.1\",\n",
      "  \"type_vocab_size\": 2,\n",
      "  \"use_cache\": true,\n",
      "  \"vocab_size\": 30522\n",
      "}\n",
      "\n",
      "loading file vocab.txt\n",
      "loading file tokenizer.json\n",
      "loading file added_tokens.json\n",
      "loading file special_tokens_map.json\n",
      "loading file tokenizer_config.json\n",
      "Load pretrained checkpoint: /MMChallenge/SMP/HyFea-main/AutogluonModels/ag-20230526_094844/models/MultiModalPredictor/automm_model/model.ckpt\n",
      "INFO:pytorch_lightning.utilities.rank_zero:You are using a CUDA device ('NVIDIA GeForce RTX 3090') that has Tensor Cores. To properly utilize them, you should set `torch.set_float32_matmul_precision('medium' | 'high')` which will trade-off precision for performance. For more details, read https://pytorch.org/docs/stable/generated/torch.set_float32_matmul_precision.html#torch.set_float32_matmul_precision\n",
      "Token indices sequence length is longer than the specified maximum sequence length for this model (618 > 512). Running this sequence through the model will result in indexing errors\n",
      "/usr/local/lib/python3.8/dist-packages/pandas/core/arrays/base.py:513: RuntimeWarning: invalid value encountered in cast\n",
      "  result = np.asarray(self, dtype=dtype)\n",
      "/usr/local/lib/python3.8/dist-packages/pandas/core/arrays/base.py:513: RuntimeWarning: invalid value encountered in cast\n",
      "  result = np.asarray(self, dtype=dtype)\n",
      "/usr/local/lib/python3.8/dist-packages/pandas/core/arrays/base.py:513: RuntimeWarning: invalid value encountered in cast\n",
      "  result = np.asarray(self, dtype=dtype)\n"
     ]
    },
    {
     "data": {
      "text/plain": [
       "305613    9.867780\n",
       "305614    9.572746\n",
       "305615    9.750528\n",
       "305616    6.719084\n",
       "305617    6.767485\n",
       "Name: label, dtype: float32"
      ]
     },
     "execution_count": 18,
     "metadata": {},
     "output_type": "execute_result"
    }
   ],
   "source": [
    "y_pred = predictor.predict(submit_all_data.drop(columns=[label]))\n",
    "y_pred.head()"
   ]
  },
  {
   "cell_type": "code",
   "execution_count": 50,
   "id": "b384f3ce-f792-48dc-a5a2-f7a229442477",
   "metadata": {
    "tags": []
   },
   "outputs": [
    {
     "name": "stderr",
     "output_type": "stream",
     "text": [
      "/usr/local/lib/python3.8/dist-packages/pandas/core/arrays/base.py:513: RuntimeWarning: invalid value encountered in cast\n",
      "  result = np.asarray(self, dtype=dtype)\n",
      "/usr/local/lib/python3.8/dist-packages/pandas/core/arrays/base.py:513: RuntimeWarning: invalid value encountered in cast\n",
      "  result = np.asarray(self, dtype=dtype)\n",
      "/usr/local/lib/python3.8/dist-packages/pandas/core/arrays/base.py:513: RuntimeWarning: invalid value encountered in cast\n",
      "  result = np.asarray(self, dtype=dtype)\n",
      "loading file vocab.txt\n",
      "loading file tokenizer.json\n",
      "loading file added_tokens.json\n",
      "loading file special_tokens_map.json\n",
      "loading file tokenizer_config.json\n",
      "loading configuration file /MMChallenge/SMP/HyFea-main/AutogluonModels/ag-20230527_132929/models/MultiModalPredictor/automm_model/hf_text/config.json\n",
      "Model config ElectraConfig {\n",
      "  \"_name_or_path\": \"/MMChallenge/SMP/HyFea-main/AutogluonModels/ag-20230527_132929/models/MultiModalPredictor/automm_model/hf_text\",\n",
      "  \"architectures\": [\n",
      "    \"ElectraForPreTraining\"\n",
      "  ],\n",
      "  \"attention_probs_dropout_prob\": 0.1,\n",
      "  \"classifier_dropout\": null,\n",
      "  \"embedding_size\": 768,\n",
      "  \"hidden_act\": \"gelu\",\n",
      "  \"hidden_dropout_prob\": 0.1,\n",
      "  \"hidden_size\": 768,\n",
      "  \"initializer_range\": 0.02,\n",
      "  \"intermediate_size\": 3072,\n",
      "  \"layer_norm_eps\": 1e-12,\n",
      "  \"max_position_embeddings\": 512,\n",
      "  \"model_type\": \"electra\",\n",
      "  \"num_attention_heads\": 12,\n",
      "  \"num_hidden_layers\": 12,\n",
      "  \"pad_token_id\": 0,\n",
      "  \"position_embedding_type\": \"absolute\",\n",
      "  \"summary_activation\": \"gelu\",\n",
      "  \"summary_last_dropout\": 0.1,\n",
      "  \"summary_type\": \"first\",\n",
      "  \"summary_use_proj\": true,\n",
      "  \"transformers_version\": \"4.26.1\",\n",
      "  \"type_vocab_size\": 2,\n",
      "  \"use_cache\": true,\n",
      "  \"vocab_size\": 30522\n",
      "}\n",
      "\n",
      "loading file vocab.txt\n",
      "loading file tokenizer.json\n",
      "loading file added_tokens.json\n",
      "loading file special_tokens_map.json\n",
      "loading file tokenizer_config.json\n",
      "Load pretrained checkpoint: /MMChallenge/SMP/HyFea-main/AutogluonModels/ag-20230527_132929/models/MultiModalPredictor/automm_model/model.ckpt\n",
      "INFO:pytorch_lightning.utilities.rank_zero:You are using a CUDA device ('NVIDIA GeForce RTX 3090') that has Tensor Cores. To properly utilize them, you should set `torch.set_float32_matmul_precision('medium' | 'high')` which will trade-off precision for performance. For more details, read https://pytorch.org/docs/stable/generated/torch.set_float32_matmul_precision.html#torch.set_float32_matmul_precision\n",
      "Token indices sequence length is longer than the specified maximum sequence length for this model (618 > 512). Running this sequence through the model will result in indexing errors\n"
     ]
    },
    {
     "name": "stdout",
     "output_type": "stream",
     "text": [
      "                 model  score_test  score_val  pred_time_test  pred_time_val      fit_time  pred_time_test_marginal  pred_time_val_marginal  fit_time_marginal  stack_level  can_infer  fit_order\n",
      "0         VowpalWabbit   -6.224528  -1.524063       55.026109       0.740438    291.251889                55.026109                0.740438         291.251889            1       True          4\n",
      "1  MultiModalPredictor   -6.398814  -0.918519      886.406637      25.699481  66663.489773               886.406637               25.699481       66663.489773            1       True          5\n",
      "2  WeightedEnsemble_L2   -6.465763  -0.801782     1025.783618      27.366637  68393.921299                 0.029652                0.000813           0.215681            2       True          6\n",
      "3              XGBoost   -6.540148  -0.888550       67.029151       0.622470    242.537141                67.029151                0.622470         242.537141            1       True          2\n",
      "4             CatBoost   -6.583451  -0.879362       17.292071       0.303435   1196.426816                17.292071                0.303435        1196.426816            1       True          1\n",
      "5       NeuralNetTorch   -6.699130  -1.073374        5.802069       0.248214   1230.774683                 5.802069                0.248214        1230.774683            1       True          3\n"
     ]
    }
   ],
   "source": [
    "leaderboard = predictor.leaderboard(submit_all_data)"
   ]
  },
  {
   "cell_type": "code",
   "execution_count": 20,
   "id": "a6eaaa14-d53b-4cd4-99b1-477860e6a172",
   "metadata": {
    "tags": []
   },
   "outputs": [],
   "source": [
    "y_pred.to_csv('../data/auto_allfea_5models.csv',header=True, index=None)"
   ]
  },
  {
   "cell_type": "code",
   "execution_count": null,
   "id": "8ccd0ba0-2848-4b20-984a-bd3b6f015459",
   "metadata": {},
   "outputs": [],
   "source": []
  },
  {
   "cell_type": "code",
   "execution_count": 25,
   "id": "e8273e5a-8f44-449e-97d2-3b74bd9b9968",
   "metadata": {
    "tags": []
   },
   "outputs": [
    {
     "data": {
      "text/plain": [
       "6.4557304"
      ]
     },
     "execution_count": 25,
     "metadata": {},
     "output_type": "execute_result"
    }
   ],
   "source": [
    "np.mean(y_pred)"
   ]
  },
  {
   "cell_type": "code",
   "execution_count": 26,
   "id": "9597e2c0-f8c4-440a-9aa4-ad4f04bd7c55",
   "metadata": {
    "tags": []
   },
   "outputs": [
    {
     "data": {
      "text/plain": [
       "305613     7.862693\n",
       "305614    10.703367\n",
       "305615    10.441699\n",
       "305616     7.996438\n",
       "305617     7.996438\n",
       "            ...    \n",
       "486189     7.990771\n",
       "486190     7.232592\n",
       "486191     8.485457\n",
       "486192     9.426772\n",
       "486193     7.799127\n",
       "Name: label, Length: 180581, dtype: float32"
      ]
     },
     "execution_count": 26,
     "metadata": {},
     "output_type": "execute_result"
    }
   ],
   "source": [
    "y_pred"
   ]
  },
  {
   "cell_type": "code",
   "execution_count": 27,
   "id": "8420adb8-2047-435d-8d46-34f5653744f7",
   "metadata": {
    "tags": []
   },
   "outputs": [],
   "source": [
    "y_pred.to_csv('../data/auto6455.csv',header=True, index=None)"
   ]
  },
  {
   "cell_type": "code",
   "execution_count": null,
   "id": "10e38f8f-c9e0-423b-b3f8-e3f7767a3729",
   "metadata": {},
   "outputs": [],
   "source": []
  }
 ],
 "metadata": {
  "kernelspec": {
   "display_name": "Python 3 (ipykernel)",
   "language": "python",
   "name": "python3"
  },
  "language_info": {
   "codemirror_mode": {
    "name": "ipython",
    "version": 3
   },
   "file_extension": ".py",
   "mimetype": "text/x-python",
   "name": "python",
   "nbconvert_exporter": "python",
   "pygments_lexer": "ipython3",
   "version": "3.8.10"
  }
 },
 "nbformat": 4,
 "nbformat_minor": 5
}
